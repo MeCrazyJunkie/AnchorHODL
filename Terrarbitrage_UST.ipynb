{
  "cells": [
    {
      "cell_type": "markdown",
      "metadata": {
        "id": "view-in-github",
        "colab_type": "text"
      },
      "source": [
        "<a href=\"https://colab.research.google.com/github/StayHomeThereIsNoFrance/AnchorHODL/blob/main/Terrarbitrage_UST.ipynb\" target=\"_parent\"><img src=\"https://colab.research.google.com/assets/colab-badge.svg\" alt=\"Open In Colab\"/></a>"
      ]
    },
    {
      "cell_type": "markdown",
      "metadata": {
        "id": "k_qxHJe83ErH"
      },
      "source": [
        "# Introduction"
      ]
    },
    {
      "cell_type": "markdown",
      "metadata": {
        "id": "QPDCgLmN0PqH"
      },
      "source": [
        "## Notebook structure\n",
        "\n",
        "The notebook is divided into several sections, which should allow for a better reading experience.\n",
        "\n",
        "* **Context**: this section provides an introduction to the protocols, technology and objective involved in this analysis\n",
        "* **Data**: briefly presents how the data has been obtained and its structure\n",
        "* **Key findings**: lists the main discoveries obtained from this analysis\n",
        "* **Analysis**: the actual process that led to the key findings. This section is divded in subsections for the each different aspects analysed and questions answered.\n",
        "* **Appendix**: this section contains data preparation and cleaning steps. They are required to be executed before the analysis section, but for better readability we have moved them to the end of the notebook."
      ]
    },
    {
      "cell_type": "markdown",
      "metadata": {
        "id": "RnW5Nllm3Lfy"
      },
      "source": [
        "## Context\n",
        "\n",
        "\n",
        "### Section1\n",
        "\n",
        "### Section2\n"
      ]
    },
    {
      "cell_type": "markdown",
      "metadata": {
        "id": "NvJp0xwX26Ck"
      },
      "source": [
        "## Objective\n"
      ]
    },
    {
      "cell_type": "markdown",
      "metadata": {
        "id": "0DZhGLls3Uko"
      },
      "source": [
        "## Data\n",
        "\n",
        "In this section we will describe how the data has been queried and its structure.\n",
        "\n",
        "### Query\n",
        "\n",
        "### Structure\n"
      ]
    },
    {
      "cell_type": "markdown",
      "metadata": {
        "id": "VdhjWHEm0PqI"
      },
      "source": [
        "## Key Findings"
      ]
    },
    {
      "cell_type": "markdown",
      "metadata": {
        "id": "PL2Z-W6Z0PqL"
      },
      "source": [
        "# Analysis\n"
      ]
    },
    {
      "cell_type": "code",
      "execution_count": null,
      "metadata": {
        "cellView": "form",
        "id": "BeeIG6C-0PqY"
      },
      "outputs": [],
      "source": [
        "#@title\n",
        "#code"
      ]
    },
    {
      "cell_type": "code",
      "execution_count": null,
      "metadata": {
        "id": "Ofyiv1VJCt0f"
      },
      "outputs": [],
      "source": [
        "cols_dict = {\n",
        "    'year_month_day':'Date',\n",
        "    'tx_id':'Nunmber of transactions',\n",
        "    'profit':'Profit'\n",
        "}"
      ]
    },
    {
      "cell_type": "code",
      "execution_count": null,
      "metadata": {
        "id": "swCKFQbdCt0g",
        "outputId": "6846b498-c8a8-4dfa-b55d-83a31bcdd28c"
      },
      "outputs": [
        {
          "data": {
            "text/plain": [
              "<AxesSubplot:xlabel='year_month_day'>"
            ]
          },
          "execution_count": 22,
          "metadata": {},
          "output_type": "execute_result"
        },
        {
          "data": {
            "image/png": "[encoded data removed]",
            "text/plain": [
              "<Figure size 1080x360 with 1 Axes>"
            ]
          },
          "metadata": {
            "needs_background": "light"
          },
          "output_type": "display_data"
        }
      ],
      "source": [
        "df = arb_txs.groupby('year_month_day').tx_id.nunique()\n",
        "df.reset_index().rename(columns=cols_dict).to_csv('./n_tx_over_time.csv')\n",
        "df.plot(kind='bar')"
      ]
    },
    {
      "cell_type": "code",
      "execution_count": null,
      "metadata": {
        "id": "15qpKyogCt0h",
        "outputId": "7bb4e60c-16f1-4330-acb6-6105b67fe198"
      },
      "outputs": [
        {
          "data": {
            "text/html": [
              "<div>\n",
              "<style scoped>\n",
              "    .dataframe tbody tr th:only-of-type {\n",
              "        vertical-align: middle;\n",
              "    }\n",
              "\n",
              "    .dataframe tbody tr th {\n",
              "        vertical-align: top;\n",
              "    }\n",
              "\n",
              "    .dataframe thead th {\n",
              "        text-align: right;\n",
              "    }\n",
              "</style>\n",
              "<table border=\"1\" class=\"dataframe\">\n",
              "  <thead>\n",
              "    <tr style=\"text-align: right;\">\n",
              "      <th></th>\n",
              "      <th>tx_id</th>\n",
              "      <th>offer_asset_first</th>\n",
              "      <th>offer_amount_first</th>\n",
              "      <th>ask_asset_last</th>\n",
              "      <th>return_amount_last</th>\n",
              "      <th>profit</th>\n",
              "    </tr>\n",
              "  </thead>\n",
              "  <tbody>\n",
              "    <tr>\n",
              "      <th>0</th>\n",
              "      <td>7B2F367AE82B35C2935BBF778D89D0F7906E3C97C88602EAAE0587E00CE7039E</td>\n",
              "      <td>uusd</td>\n",
              "      <td>100000000.0</td>\n",
              "      <td>uusd</td>\n",
              "      <td>98684608.0</td>\n",
              "      <td>-1.315392</td>\n",
              "    </tr>\n",
              "    <tr>\n",
              "      <th>1</th>\n",
              "      <td>A3C732E700945CD1B727C5E8B1D88A3394881CE842163A3DF3943CB699E6AF9E</td>\n",
              "      <td>uusd</td>\n",
              "      <td>100000000.0</td>\n",
              "      <td>uusd</td>\n",
              "      <td>99385538.0</td>\n",
              "      <td>-0.614462</td>\n",
              "    </tr>\n",
              "    <tr>\n",
              "      <th>2</th>\n",
              "      <td>4370DA0ECF447E794B7DEE0F3C096BA25B102669645ED0100909B7C20E4ADFD6</td>\n",
              "      <td>uusd</td>\n",
              "      <td>100000000.0</td>\n",
              "      <td>uusd</td>\n",
              "      <td>101202172.0</td>\n",
              "      <td>1.202172</td>\n",
              "    </tr>\n",
              "    <tr>\n",
              "      <th>3</th>\n",
              "      <td>7142BAC828AEF7F55A2EA9725BD8819B4BD226D9C8E1FF684D3CE3E687749642</td>\n",
              "      <td>uusd</td>\n",
              "      <td>100000000.0</td>\n",
              "      <td>uusd</td>\n",
              "      <td>101037204.0</td>\n",
              "      <td>1.037204</td>\n",
              "    </tr>\n",
              "    <tr>\n",
              "      <th>4</th>\n",
              "      <td>E5325078ACB840A8402B64F9509BE61CE73F8BE70CBC6CBF30E01DB81657CB17</td>\n",
              "      <td>uusd</td>\n",
              "      <td>100000000.0</td>\n",
              "      <td>uusd</td>\n",
              "      <td>100733034.0</td>\n",
              "      <td>0.733034</td>\n",
              "    </tr>\n",
              "    <tr>\n",
              "      <th>...</th>\n",
              "      <td>...</td>\n",
              "      <td>...</td>\n",
              "      <td>...</td>\n",
              "      <td>...</td>\n",
              "      <td>...</td>\n",
              "      <td>...</td>\n",
              "    </tr>\n",
              "    <tr>\n",
              "      <th>11033</th>\n",
              "      <td>05D25CB676F24EFD74DBE0BC48F372C1F135020D617A8748ED99E7AC3FD862D8</td>\n",
              "      <td>uusd</td>\n",
              "      <td>75103217.0</td>\n",
              "      <td>uusd</td>\n",
              "      <td>75691238.0</td>\n",
              "      <td>0.588021</td>\n",
              "    </tr>\n",
              "    <tr>\n",
              "      <th>11034</th>\n",
              "      <td>F8BFB52EAD07DC2E3E1BAB7044FC867594172D6505206054C91D701655832EE7</td>\n",
              "      <td>uusd</td>\n",
              "      <td>96560391.0</td>\n",
              "      <td>uusd</td>\n",
              "      <td>97294378.0</td>\n",
              "      <td>0.733987</td>\n",
              "    </tr>\n",
              "    <tr>\n",
              "      <th>11035</th>\n",
              "      <td>BC8146D3EC2AAB25081D6B95B573700B8864F907315EB156A781DE300059964E</td>\n",
              "      <td>uusd</td>\n",
              "      <td>199378876.0</td>\n",
              "      <td>uusd</td>\n",
              "      <td>200677501.0</td>\n",
              "      <td>1.298625</td>\n",
              "    </tr>\n",
              "    <tr>\n",
              "      <th>11036</th>\n",
              "      <td>50C174F4A396E6B751E89495C8CE47B769EB1ED7BD6B65C83A76E84BBCED0792</td>\n",
              "      <td>uusd</td>\n",
              "      <td>45367677.0</td>\n",
              "      <td>uusd</td>\n",
              "      <td>45755133.0</td>\n",
              "      <td>0.387456</td>\n",
              "    </tr>\n",
              "    <tr>\n",
              "      <th>11037</th>\n",
              "      <td>125DD350A24AA97FFEE1F4BDEAF401C01F964513D16A4DDB818F9533A13ED314</td>\n",
              "      <td>uusd</td>\n",
              "      <td>99520272.0</td>\n",
              "      <td>uusd</td>\n",
              "      <td>100585943.0</td>\n",
              "      <td>1.065671</td>\n",
              "    </tr>\n",
              "  </tbody>\n",
              "</table>\n",
              "<p>10906 rows × 6 columns</p>\n",
              "</div>"
            ],
            "text/plain": [
              "                                                                  tx_id  \\\n",
              "0      7B2F367AE82B35C2935BBF778D89D0F7906E3C97C88602EAAE0587E00CE7039E   \n",
              "1      A3C732E700945CD1B727C5E8B1D88A3394881CE842163A3DF3943CB699E6AF9E   \n",
              "2      4370DA0ECF447E794B7DEE0F3C096BA25B102669645ED0100909B7C20E4ADFD6   \n",
              "3      7142BAC828AEF7F55A2EA9725BD8819B4BD226D9C8E1FF684D3CE3E687749642   \n",
              "4      E5325078ACB840A8402B64F9509BE61CE73F8BE70CBC6CBF30E01DB81657CB17   \n",
              "...                                                                 ...   \n",
              "11033  05D25CB676F24EFD74DBE0BC48F372C1F135020D617A8748ED99E7AC3FD862D8   \n",
              "11034  F8BFB52EAD07DC2E3E1BAB7044FC867594172D6505206054C91D701655832EE7   \n",
              "11035  BC8146D3EC2AAB25081D6B95B573700B8864F907315EB156A781DE300059964E   \n",
              "11036  50C174F4A396E6B751E89495C8CE47B769EB1ED7BD6B65C83A76E84BBCED0792   \n",
              "11037  125DD350A24AA97FFEE1F4BDEAF401C01F964513D16A4DDB818F9533A13ED314   \n",
              "\n",
              "      offer_asset_first  offer_amount_first ask_asset_last  \\\n",
              "0                  uusd         100000000.0           uusd   \n",
              "1                  uusd         100000000.0           uusd   \n",
              "2                  uusd         100000000.0           uusd   \n",
              "3                  uusd         100000000.0           uusd   \n",
              "4                  uusd         100000000.0           uusd   \n",
              "...                 ...                 ...            ...   \n",
              "11033              uusd          75103217.0           uusd   \n",
              "11034              uusd          96560391.0           uusd   \n",
              "11035              uusd         199378876.0           uusd   \n",
              "11036              uusd          45367677.0           uusd   \n",
              "11037              uusd          99520272.0           uusd   \n",
              "\n",
              "       return_amount_last    profit  \n",
              "0              98684608.0 -1.315392  \n",
              "1              99385538.0 -0.614462  \n",
              "2             101202172.0  1.202172  \n",
              "3             101037204.0  1.037204  \n",
              "4             100733034.0  0.733034  \n",
              "...                   ...       ...  \n",
              "11033          75691238.0  0.588021  \n",
              "11034          97294378.0  0.733987  \n",
              "11035         200677501.0  1.298625  \n",
              "11036          45755133.0  0.387456  \n",
              "11037         100585943.0  1.065671  \n",
              "\n",
              "[10906 rows x 6 columns]"
            ]
          },
          "execution_count": 23,
          "metadata": {},
          "output_type": "execute_result"
        }
      ],
      "source": [
        "a = arb_txs.groupby('tx_id').agg(max_index=('msg_index', 'max'), min_index=('msg_index', 'min'))\n",
        "last = arb_txs.merge(a, on='tx_id')\n",
        "last = last[last.max_index==last.msg_index]\n",
        "\n",
        "first = arb_txs.merge(a, on='tx_id')\n",
        "first = first[first.min_index==first.msg_index]\n",
        "\n",
        "arb = first.merge(last, on='tx_id', suffixes=['_first','_last'])\n",
        "arb = arb[arb.offer_asset_first==arb.ask_asset_last]\n",
        "arb['profit'] = (arb.return_amount_last-arb.offer_amount_first)/1000000\n",
        "arb[['tx_id','offer_asset_first','offer_amount_first','ask_asset_last','return_amount_last','profit']]\n"
      ]
    },
    {
      "cell_type": "markdown",
      "metadata": {
        "id": "Dp3B3CNECt0h"
      },
      "source": [
        "### Profit"
      ]
    },
    {
      "cell_type": "code",
      "execution_count": null,
      "metadata": {
        "id": "-UemDcbyCt0h",
        "outputId": "89214edd-e5b2-47b0-b87c-c6e3a8fe3da0"
      },
      "outputs": [
        {
          "data": {
            "text/plain": [
              "count    10906.000000\n",
              "mean         4.403236\n",
              "std         50.162439\n",
              "min       -296.750454\n",
              "25%          0.292829\n",
              "50%          0.592881\n",
              "75%          0.981567\n",
              "max       2623.557616\n",
              "Name: profit, dtype: float64"
            ]
          },
          "execution_count": 24,
          "metadata": {},
          "output_type": "execute_result"
        }
      ],
      "source": [
        "arb['profit'] = (arb.return_amount_last-arb.offer_amount_first)/1000000\n",
        "arb.profit.describe()"
      ]
    },
    {
      "cell_type": "markdown",
      "metadata": {
        "id": "roCz9Av6Ct0h"
      },
      "source": [
        "**Cumulative profit**"
      ]
    },
    {
      "cell_type": "code",
      "execution_count": null,
      "metadata": {
        "id": "aGVBz7-wCt0i",
        "outputId": "4b92033c-3a7d-42df-efbf-5e65ce5d6625"
      },
      "outputs": [
        {
          "data": {
            "text/plain": [
              "<AxesSubplot:xlabel='year_month_day'>"
            ]
          },
          "execution_count": 25,
          "metadata": {},
          "output_type": "execute_result"
        },
        {
          "data": {
            "image/png": "[encoded data removed]",
            "text/plain": [
              "<Figure size 1080x360 with 1 Axes>"
            ]
          },
          "metadata": {
            "needs_background": "light"
          },
          "output_type": "display_data"
        }
      ],
      "source": [
        "df = arb_txs[['tx_id','year_month_day']].merge(arb[['tx_id','profit']],on='tx_id')\\\n",
        "            .groupby('year_month_day').profit.sum()\\\n",
        "            .sort_index().cumsum()\n",
        "df.reset_index().rename(columns=cols_dict).to_csv('./cum_profit_time.csv')\n",
        "df.plot(kind='line')"
      ]
    },
    {
      "cell_type": "code",
      "execution_count": null,
      "metadata": {
        "id": "JS0tLobmCt0i",
        "outputId": "e9f4f13f-1670-4e46-a847-e69577ae5c4d"
      },
      "outputs": [
        {
          "data": {
            "text/plain": [
              "<AxesSubplot:xlabel='profit', ylabel='Density'>"
            ]
          },
          "execution_count": 26,
          "metadata": {},
          "output_type": "execute_result"
        },
        {
          "data": {
            "image/png": "[encoded data removed]",
            "text/plain": [
              "<Figure size 1080x360 with 1 Axes>"
            ]
          },
          "metadata": {
            "needs_background": "light"
          },
          "output_type": "display_data"
        }
      ],
      "source": [
        "sns.distplot(arb[(arb.profit<100)&(arb.profit>0)].profit)"
      ]
    },
    {
      "cell_type": "markdown",
      "metadata": {
        "id": "wlQqAF6lCt0i"
      },
      "source": [
        "**Assets**"
      ]
    },
    {
      "cell_type": "code",
      "execution_count": null,
      "metadata": {
        "id": "FjmIGXkLCt0i",
        "outputId": "daa7af31-28b9-4574-eb4f-cff6976aeaed"
      },
      "outputs": [
        {
          "data": {
            "text/plain": [
              "uusd    10906\n",
              "Name: offer_asset_first, dtype: int64"
            ]
          },
          "execution_count": 27,
          "metadata": {},
          "output_type": "execute_result"
        }
      ],
      "source": [
        "arb.offer_asset_first.value_counts()"
      ]
    },
    {
      "cell_type": "markdown",
      "metadata": {
        "id": "uwBLcPr3Ct0j"
      },
      "source": [
        "**Senders**"
      ]
    },
    {
      "cell_type": "code",
      "execution_count": null,
      "metadata": {
        "id": "ne8K7LZjCt0j"
      },
      "outputs": [],
      "source": [
        "def shorten_sender(sender):\n",
        "    return f\"{sender[0:10]}...{sender[-5:]}\""
      ]
    },
    {
      "cell_type": "code",
      "execution_count": null,
      "metadata": {
        "id": "yhOGZ04kCt0j",
        "outputId": "fdeadc17-7ce6-45e3-c7b8-2faf625954b2"
      },
      "outputs": [
        {
          "data": {
            "text/plain": [
              "Address\n",
              "terra1ek8l...hx3fe    5233\n",
              "terra1sda0...fmsky    2076\n",
              "terra1zg8p...m5p54    1063\n",
              "terra1csae...0dtqv     794\n",
              "terra1stmh...6mm4y     640\n",
              "Name: sender_first_short, dtype: int64"
            ]
          },
          "execution_count": 29,
          "metadata": {},
          "output_type": "execute_result"
        }
      ],
      "source": [
        "arb['sender_first_short'] = arb.sender_first.apply(shorten_sender)\n",
        "df = arb.sender_first_short.value_counts().head(20)\n",
        "df.index = df.index.rename('Address')\n",
        "df[df.index!='...'].to_csv('./top_addresses.csv')\n",
        "df.head()"
      ]
    },
    {
      "cell_type": "markdown",
      "metadata": {
        "id": "Vf7O6bWQCt0j"
      },
      "source": [
        "**How many hops?**"
      ]
    },
    {
      "cell_type": "code",
      "execution_count": null,
      "metadata": {
        "id": "xQDRYJ96Ct0j",
        "outputId": "15c90cb3-eeec-4189-c3d6-4dbacb4cc081"
      },
      "outputs": [
        {
          "data": {
            "text/plain": [
              "<AxesSubplot:xlabel='Number of hops'>"
            ]
          },
          "execution_count": 30,
          "metadata": {},
          "output_type": "execute_result"
        },
        {
          "data": {
            "image/png": "[encoded data removed]",
            "text/plain": [
              "<Figure size 1080x360 with 1 Axes>"
            ]
          },
          "metadata": {
            "needs_background": "light"
          },
          "output_type": "display_data"
        }
      ],
      "source": [
        "df = arb.max_index_last.value_counts().reset_index()\n",
        "df['index'] = df['index']+1\n",
        "df=df.set_index('index')\n",
        "df = df.sort_index()\n",
        "df.index = df.index.rename('Number of hops')\n",
        "df.to_csv('./hops.csv')\n",
        "df.plot(kind='bar')"
      ]
    },
    {
      "cell_type": "markdown",
      "metadata": {
        "id": "LvECqjPvCt0k"
      },
      "source": [
        "**Longest tx by hops?**"
      ]
    },
    {
      "cell_type": "code",
      "execution_count": null,
      "metadata": {
        "id": "aq6oNu5SCt0k",
        "outputId": "3e60b3ed-0705-4e56-e25c-57c64d73da32"
      },
      "outputs": [
        {
          "data": {
            "text/html": [
              "<div>\n",
              "<style scoped>\n",
              "    .dataframe tbody tr th:only-of-type {\n",
              "        vertical-align: middle;\n",
              "    }\n",
              "\n",
              "    .dataframe tbody tr th {\n",
              "        vertical-align: top;\n",
              "    }\n",
              "\n",
              "    .dataframe thead th {\n",
              "        text-align: right;\n",
              "    }\n",
              "</style>\n",
              "<table border=\"1\" class=\"dataframe\">\n",
              "  <thead>\n",
              "    <tr style=\"text-align: right;\">\n",
              "      <th></th>\n",
              "      <th>tx_id</th>\n",
              "      <th>profit</th>\n",
              "    </tr>\n",
              "  </thead>\n",
              "  <tbody>\n",
              "    <tr>\n",
              "      <th>40</th>\n",
              "      <td>67A82E863536AF60DB506194FFFEB134FDB0CDBC2898E648AC46813835CD16CA</td>\n",
              "      <td>18.564908</td>\n",
              "    </tr>\n",
              "    <tr>\n",
              "      <th>44</th>\n",
              "      <td>DDCF631D387B99286DEDB1C44CA8F25D877574C83BC9FE049356F42165714EEE</td>\n",
              "      <td>36.082538</td>\n",
              "    </tr>\n",
              "    <tr>\n",
              "      <th>97</th>\n",
              "      <td>7BE853D7A176CF7B928D7763C120B3ECAA41207C5F399450A75AE53FF44182D8</td>\n",
              "      <td>26.574966</td>\n",
              "    </tr>\n",
              "    <tr>\n",
              "      <th>112</th>\n",
              "      <td>10DE675300777F4B1F22F0D7FE9B6995EF34F8B5ED8801CA0ED758693D5DE792</td>\n",
              "      <td>14.130306</td>\n",
              "    </tr>\n",
              "    <tr>\n",
              "      <th>113</th>\n",
              "      <td>A9C3E10AFCBE673D898276B13BA05F9B05DFA41FB50D71EEBC65AA6E0C492CB7</td>\n",
              "      <td>101.640082</td>\n",
              "    </tr>\n",
              "    <tr>\n",
              "      <th>...</th>\n",
              "      <td>...</td>\n",
              "      <td>...</td>\n",
              "    </tr>\n",
              "    <tr>\n",
              "      <th>10730</th>\n",
              "      <td>2A4807AFFFBD2B480C4E371CAB4B0AE76766D04C8A059F1321AACA0DF702B311</td>\n",
              "      <td>-19.087682</td>\n",
              "    </tr>\n",
              "    <tr>\n",
              "      <th>10733</th>\n",
              "      <td>7F3594F610D649638E55C8BD1B0EA6BF43147A33CA574702F98AD241084D5D32</td>\n",
              "      <td>-1.324316</td>\n",
              "    </tr>\n",
              "    <tr>\n",
              "      <th>10825</th>\n",
              "      <td>30CE21D103495C4CAC3BC25CC059DCDCBABC366B292EE1A3AF0FAF1719C2665D</td>\n",
              "      <td>14.291691</td>\n",
              "    </tr>\n",
              "    <tr>\n",
              "      <th>10827</th>\n",
              "      <td>AEE03B31162651D4ABBAAC3D7CBEB68D910606C1DA24E8F6D2B4828A33F559C8</td>\n",
              "      <td>7.763404</td>\n",
              "    </tr>\n",
              "    <tr>\n",
              "      <th>10928</th>\n",
              "      <td>18F5F789F9BE2376212A4C47F21442FD7BC756CC2A0765713B9ABB2EE175AA33</td>\n",
              "      <td>11.224325</td>\n",
              "    </tr>\n",
              "  </tbody>\n",
              "</table>\n",
              "<p>756 rows × 2 columns</p>\n",
              "</div>"
            ],
            "text/plain": [
              "                                                                  tx_id  \\\n",
              "40     67A82E863536AF60DB506194FFFEB134FDB0CDBC2898E648AC46813835CD16CA   \n",
              "44     DDCF631D387B99286DEDB1C44CA8F25D877574C83BC9FE049356F42165714EEE   \n",
              "97     7BE853D7A176CF7B928D7763C120B3ECAA41207C5F399450A75AE53FF44182D8   \n",
              "112    10DE675300777F4B1F22F0D7FE9B6995EF34F8B5ED8801CA0ED758693D5DE792   \n",
              "113    A9C3E10AFCBE673D898276B13BA05F9B05DFA41FB50D71EEBC65AA6E0C492CB7   \n",
              "...                                                                 ...   \n",
              "10730  2A4807AFFFBD2B480C4E371CAB4B0AE76766D04C8A059F1321AACA0DF702B311   \n",
              "10733  7F3594F610D649638E55C8BD1B0EA6BF43147A33CA574702F98AD241084D5D32   \n",
              "10825  30CE21D103495C4CAC3BC25CC059DCDCBABC366B292EE1A3AF0FAF1719C2665D   \n",
              "10827  AEE03B31162651D4ABBAAC3D7CBEB68D910606C1DA24E8F6D2B4828A33F559C8   \n",
              "10928  18F5F789F9BE2376212A4C47F21442FD7BC756CC2A0765713B9ABB2EE175AA33   \n",
              "\n",
              "           profit  \n",
              "40      18.564908  \n",
              "44      36.082538  \n",
              "97      26.574966  \n",
              "112     14.130306  \n",
              "113    101.640082  \n",
              "...           ...  \n",
              "10730  -19.087682  \n",
              "10733   -1.324316  \n",
              "10825   14.291691  \n",
              "10827    7.763404  \n",
              "10928   11.224325  \n",
              "\n",
              "[756 rows x 2 columns]"
            ]
          },
          "execution_count": 62,
          "metadata": {},
          "output_type": "execute_result"
        }
      ],
      "source": [
        "arb[arb.max_index_last==4][['tx_id','profit']]"
      ]
    },
    {
      "cell_type": "markdown",
      "metadata": {
        "id": "pqND4c29Ct0k"
      },
      "source": [
        "**Most used pool**"
      ]
    },
    {
      "cell_type": "code",
      "execution_count": null,
      "metadata": {
        "id": "OJEYjOIVCt0l",
        "outputId": "a3ba2cc8-ceef-4b32-8b64-86267755682e"
      },
      "outputs": [
        {
          "data": {
            "text/plain": [
              "<AxesSubplot:xlabel='Liquidity pool'>"
            ]
          },
          "execution_count": 32,
          "metadata": {},
          "output_type": "execute_result"
        },
        {
          "data": {
            "image/png": "[encoded data removed]",
            "text/plain": [
              "<Figure size 1080x360 with 1 Axes>"
            ]
          },
          "metadata": {
            "needs_background": "light"
          },
          "output_type": "display_data"
        }
      ],
      "source": [
        "df = arb_txs[arb_txs.tx_id.isin(arb_txs.tx_id)].pool_name.value_counts().head(20)\n",
        "df.index = df.index.rename('Liquidity pool')\n",
        "df.to_csv('./top_pools.csv')\n",
        "df.plot(kind='bar')"
      ]
    },
    {
      "cell_type": "markdown",
      "metadata": {
        "id": "ay6Rwl0dCt0l"
      },
      "source": [
        "**-----**"
      ]
    },
    {
      "cell_type": "markdown",
      "metadata": {
        "id": "9BYa7vMDCt0l"
      },
      "source": [
        "### Networks"
      ]
    },
    {
      "cell_type": "code",
      "execution_count": null,
      "metadata": {
        "id": "7xEGjRxLCt0l"
      },
      "outputs": [],
      "source": [
        "import networkx as nx"
      ]
    },
    {
      "cell_type": "code",
      "execution_count": null,
      "metadata": {
        "id": "Tsnf-D39Ct0m"
      },
      "outputs": [],
      "source": [
        "ntwrk = arb_txs.merge(arb_txs, on='tx_id', suffixes=['_pre','_post'])\n",
        "ntwrk = ntwrk[ntwrk.msg_index_pre+1==ntwrk.msg_index_post]\n",
        "ntwrk=ntwrk[['tx_id','pool_name_pre','pool_name_post']]\n",
        "ntwrk=ntwrk.groupby(['pool_name_pre','pool_name_post']).tx_id.count().reset_index()\n",
        "ntwrk.to_csv('./ust_arb_ntwrk.csv')"
      ]
    },
    {
      "cell_type": "code",
      "execution_count": null,
      "metadata": {
        "id": "F_8XVHPoCt0m"
      },
      "outputs": [],
      "source": [
        "G = nx.Graph()\n",
        "G.add_nodes_from(arb_txs.pool_name.values)\n",
        "G.add_edges_from(ntwrk[['pool_name_pre','pool_name_post']].to_records(index=False))\n"
      ]
    },
    {
      "cell_type": "markdown",
      "metadata": {
        "id": "caplecu_Ct0m"
      },
      "source": [
        "**Connected components**"
      ]
    },
    {
      "cell_type": "code",
      "execution_count": null,
      "metadata": {
        "id": "12n-hBdoCt0m",
        "outputId": "95ca50b2-32aa-45c0-b004-3b59c72ce3d5"
      },
      "outputs": [
        {
          "name": "stdout",
          "output_type": "stream",
          "text": [
            "Graph with 117 nodes and 285 edges\n"
          ]
        }
      ],
      "source": [
        "print(nx.info(G))"
      ]
    },
    {
      "cell_type": "code",
      "execution_count": null,
      "metadata": {
        "id": "RVSEQj9FCt0n",
        "outputId": "d128afbd-fcc9-4b34-ba2c-ab4e4be48001"
      },
      "outputs": [
        {
          "name": "stdout",
          "output_type": "stream",
          "text": [
            "Network density: 0.041998231653404064\n"
          ]
        }
      ],
      "source": [
        "density = nx.density(G)\n",
        "print(\"Network density:\", density)"
      ]
    },
    {
      "cell_type": "code",
      "execution_count": null,
      "metadata": {
        "id": "seIL-tjmCt0n"
      },
      "outputs": [],
      "source": [
        "components = nx.connected_components(G)\n",
        "largest_component = max(components, key=len)"
      ]
    },
    {
      "cell_type": "code",
      "execution_count": null,
      "metadata": {
        "id": "vdDYWJNOCt0n",
        "outputId": "412e96ab-5486-4277-c257-c6d81efb7edd"
      },
      "outputs": [
        {
          "name": "stdout",
          "output_type": "stream",
          "text": [
            "Network diameter of largest component: 14\n"
          ]
        }
      ],
      "source": [
        "subgraph = G.subgraph(largest_component)\n",
        "diameter = nx.diameter(subgraph)\n",
        "print(\"Network diameter of largest component:\", diameter)"
      ]
    },
    {
      "cell_type": "code",
      "execution_count": null,
      "metadata": {
        "id": "6e9Kg-EXCt0n",
        "outputId": "cc8f2c85-b36c-40df-fea4-6234d5e7ff44"
      },
      "outputs": [
        {
          "data": {
            "text/plain": [
              "15"
            ]
          },
          "execution_count": 40,
          "metadata": {},
          "output_type": "execute_result"
        }
      ],
      "source": [
        "conn_components = sorted(nx.connected_components(G), key = len, reverse=True)\n",
        "len(conn_components)"
      ]
    },
    {
      "cell_type": "code",
      "execution_count": null,
      "metadata": {
        "id": "wMlioPayCt0o",
        "outputId": "ebceb670-1d44-471d-9bc1-04b2580f6bfc"
      },
      "outputs": [
        {
          "data": {
            "text/plain": [
              "[88, 3, 2, 2, 2, 2, 2, 2, 2, 2, 2, 2, 2, 2, 2]"
            ]
          },
          "execution_count": 41,
          "metadata": {},
          "output_type": "execute_result"
        }
      ],
      "source": [
        "[len(c) for c in conn_components]"
      ]
    },
    {
      "cell_type": "code",
      "execution_count": null,
      "metadata": {
        "id": "to4i0XBNCt0o"
      },
      "outputs": [],
      "source": [
        "components_id = dict(zip(range(14),conn_components))"
      ]
    },
    {
      "cell_type": "code",
      "execution_count": null,
      "metadata": {
        "id": "9t-_JXxqCt0o",
        "outputId": "c606bc8e-db20-47cc-83f5-8a85518caa5a"
      },
      "outputs": [
        {
          "data": {
            "text/plain": [
              "{0: {'Astroport LUNA-UST Pair',\n",
              "  'Astroport bLUNA-LUNA Pair',\n",
              "  'LOOP ALTE-UST Pair',\n",
              "  'LOOP ANC-UST Pair',\n",
              "  'LOOP LOOP-LOOPR Pair',\n",
              "  'LOOP LOOP-LOTA Pair',\n",
              "  'LOOP LOOP-LUNA Pair',\n",
              "  'LOOP LOOP-MINE Pair',\n",
              "  'LOOP LOOP-MIR Pair',\n",
              "  'LOOP LOOP-UST Pair',\n",
              "  'LOOP LOOP-UST_2 Pair',\n",
              "  'LOOP LOOP-weWBTC Pair',\n",
              "  'LOOP LOOP-weWETH Pair',\n",
              "  'LOOP LOOPR-UST Pair',\n",
              "  'LOOP LOTA-UST Pair',\n",
              "  'LOOP LUNA-ANC Pair',\n",
              "  'LOOP LUNA-UST Pair',\n",
              "  'LOOP MINE-UST Pair',\n",
              "  'LOOP MIR-UST Pair',\n",
              "  'LOOP SPEC-UST Pair',\n",
              "  'LOOP STT-UST Pair',\n",
              "  'LOOP bLUNA-LUNA Pair',\n",
              "  'LOOP bLUNA-UST Pair',\n",
              "  'LOOP weWBTC-LUNA Pair',\n",
              "  'LOOP weWBTC-UST Pair',\n",
              "  'LOOP weWETH-LUNA Pair',\n",
              "  'LOOP weWETH-UST Pair',\n",
              "  'Loop HALO-UST Pair',\n",
              "  'Nexus Nexus Vault bETH',\n",
              "  'Nexus Nexus Vault bLuna',\n",
              "  'Terraswap ALTE-UST Pair',\n",
              "  'Terraswap ANC-UST Pair',\n",
              "  'Terraswap LOTA-UST Pair',\n",
              "  'Terraswap LUNA-KRT Pair',\n",
              "  'Terraswap LUNA-MNT Pair',\n",
              "  'Terraswap LUNA-SDT Pair',\n",
              "  'Terraswap LUNA-UST Pair',\n",
              "  'Terraswap MIAW-UST Pair',\n",
              "  'Terraswap MINE-UST Pair',\n",
              "  'Terraswap MIR-UST Pair',\n",
              "  'Terraswap PSI-UST PAIR',\n",
              "  'Terraswap PSI-nETH PAIR',\n",
              "  'Terraswap PSI-nLuna PAIR',\n",
              "  'Terraswap SPEC-UST Pair',\n",
              "  'Terraswap STT-UST Pair',\n",
              "  'Terraswap bETH-UST Pair',\n",
              "  'Terraswap bETH-mETH Pair',\n",
              "  'Terraswap bLUNA-LUNA Pair',\n",
              "  'Terraswap bLUNA-UST Pair',\n",
              "  'Terraswap mBTC-UST Pair',\n",
              "  'Terraswap mETH-UST Pair',\n",
              "  'Unknown terra10dtff8drpwtfx4976m7cxwpptfy87l5p264xgy',\n",
              "  'Unknown terra10lv5wz84kpwxys7jeqkfxx299drs3vnw0lj8mz',\n",
              "  'Unknown terra10s94a5gesvayqlekgn570r3nsnmr8q7lf5zkjp',\n",
              "  'Unknown terra123neekasfmvcs4wa70cgw3j3uvwzqacdz2we03',\n",
              "  'Unknown terra12aazc56hv7aj2fcvmhuxve0l4pmayhpn794m0p',\n",
              "  'Unknown terra134m8n2epp0n40qr08qsvvrzycn2zq4zcpmue48',\n",
              "  'Unknown terra143xxfw5xf62d5m32k3t4eu9s82ccw80lcprzl9',\n",
              "  'Unknown terra14glht7py7e3zp09wex9awej5cu4jql90yygdw0',\n",
              "  'Unknown terra15asyerx0su2j3urlsn2xea0klrr5dpd75jamwj',\n",
              "  'Unknown terra15xxfkxldxse9atz8ce7ne2a047pp09dy428njm',\n",
              "  'Unknown terra167gwjhv4mrs0fqj0q5tejyl6cz6qc2cl95z530',\n",
              "  'Unknown terra16j5f4lp4z8dddm3rhyw8stwrktyhcsc8ll6xtt',\n",
              "  'Unknown terra170athjxhauwzdn3tejfcv49pej3atyv4qwffrm',\n",
              "  'Unknown terra18hjdxnnkv8ewqlaqj3zpn0vsfpzdt3d0y2ufdz',\n",
              "  'Unknown terra18raj59xx32kuz66sfg82kqta6q0aslfs3m8s4r',\n",
              "  'Unknown terra1alaaant5ykususyuv0x6k298sh8kl8qkpkuu8e',\n",
              "  'Unknown terra1c7uxt89gap5gcclvhtqvx3wpd0ee2dpjhf0ct6',\n",
              "  'Unknown terra1dcs9ja40rmdax9g4ffc756w4cf6yvrf4auxye5',\n",
              "  'Unknown terra1dgqs3aa66l24natsgslvwwkj3henn4c9uesfz9',\n",
              "  'Unknown terra1efvhm927dehrka0cgpcptt5gvjfdgqm07smawu',\n",
              "  'Unknown terra1gc46an30tdv0n25ch5twgzcsw0wpk2h32gp4nq',\n",
              "  'Unknown terra1hkp4hulmttwzagzphr6vczvjm46e6ryxv99nan',\n",
              "  'Unknown terra1kh2g4fnhvqtnwwpqa84eywn72ve9vdkp5chhlx',\n",
              "  'Unknown terra1kytqskj07g0d5qwk3jr3l3z8fdvzjytyntda9v',\n",
              "  'Unknown terra1m32zs8725j9jzvva7zmytzasj392wpss63j2v0',\n",
              "  'Unknown terra1m95udvvdame93kl6j2mk8d03kc982wqgr75jsr',\n",
              "  'Unknown terra1me6a35xuzf9ycjaaqyj7798g5tewunp6dzg27e',\n",
              "  'Unknown terra1qr2k6yjjd5p2kaewqvg93ag74k6gyjr7re37fs',\n",
              "  'Unknown terra1r0288hx3mjgx0zrpmpc8rulm6ca8jheqtwhwq5',\n",
              "  'Unknown terra1runncker37zx0wlp43xchzep33udsn6yje3rt3',\n",
              "  'Unknown terra1svequ729grnrj2d8x609e45axajrdjz87athfh',\n",
              "  'Unknown terra1szj7qd0azfzf4sarhxr2wfzf0k8js3vng545cv',\n",
              "  'Unknown terra1tehmd65kyleuwuf3a362mhnupkpza29vd86sml',\n",
              "  'Unknown terra1v5ct2tuhfqd0tf8z0wwengh4fg77kaczgf6gtx',\n",
              "  'Unknown terra1ws34kqg6kek40jy8amdz7j4tyzqx8cenz40rem',\n",
              "  'Unknown terra1x8h5gan6vey5cz2xfyst74mtqsj7746fqj2hze',\n",
              "  'Unknown terra1z50zu7j39s2dls8k9xqyxc89305up0w7f7ec3n'},\n",
              " 1: {'Astroport ASTRO-LUNA Pair',\n",
              "  'Astroport ASTRO-UST Pair',\n",
              "  'Terraswap ASTRO-UST LP'},\n",
              " 2: {'LOOP DPH-UST Pair', 'Terraswap DPH-UST PAIR'},\n",
              " 3: {'LOOP TWD-UST Pair', 'Terraswap TWD-UST Pair'},\n",
              " 4: {'TFLOKI-UST LLP Pair', 'Terraswap TFLOKI-UST PAIR'},\n",
              " 5: {'TFLOKI TFTICII-UST LLP Pair', 'Terraswap TFTICII-UST LP'},\n",
              " 6: {'Terraformer BTL-UST LP', 'Terraswap BTL-UST LP'},\n",
              " 7: {'TFLOKI TFTIC-UST LLP Pair', 'Terraswap TFTIC-UST LP'},\n",
              " 8: {'TFLOKI TFTICIII-UST LLP Pair', 'Terraswap TFTICIII-UST LP'},\n",
              " 9: {'Terraswap WHALE-UST Pair', 'White Whale Bootswap'},\n",
              " 10: {'Astroport APOLLO-UST Pair', 'Terraswap APOLLO-UST Pair'},\n",
              " 11: {'Astroport VKR-UST Pair', 'Terraswap VKR-UST Pair'},\n",
              " 12: {'Astroport ORION-UST Pair', 'Terraswap ORION-UST PAIR'},\n",
              " 13: {'LOOP KUJI-UST Pair', 'Terraswap KUJI-UST PAIR'}}"
            ]
          },
          "execution_count": 43,
          "metadata": {},
          "output_type": "execute_result"
        }
      ],
      "source": [
        "components_id"
      ]
    },
    {
      "cell_type": "code",
      "execution_count": null,
      "metadata": {
        "id": "hbR3_6ShCt0o"
      },
      "outputs": [],
      "source": [
        "contr_id = {}\n",
        "for i, contrs in components_id.items():\n",
        "    for contr in contrs:\n",
        "        contr_id[contr] = i"
      ]
    },
    {
      "cell_type": "code",
      "execution_count": null,
      "metadata": {
        "id": "DrGnoECGCt0o"
      },
      "outputs": [],
      "source": [
        "arb_txs['component_id']=arb_txs.pool_name.map(contr_id)"
      ]
    },
    {
      "cell_type": "code",
      "execution_count": null,
      "metadata": {
        "scrolled": true,
        "id": "sQ0a1ltECt0p",
        "outputId": "e2bef8c6-44ad-4113-9e4f-e4af64866229"
      },
      "outputs": [
        {
          "data": {
            "text/html": [
              "<div>\n",
              "<style scoped>\n",
              "    .dataframe tbody tr th:only-of-type {\n",
              "        vertical-align: middle;\n",
              "    }\n",
              "\n",
              "    .dataframe tbody tr th {\n",
              "        vertical-align: top;\n",
              "    }\n",
              "\n",
              "    .dataframe thead th {\n",
              "        text-align: right;\n",
              "    }\n",
              "</style>\n",
              "<table border=\"1\" class=\"dataframe\">\n",
              "  <thead>\n",
              "    <tr style=\"text-align: right;\">\n",
              "      <th></th>\n",
              "      <th>pool_name</th>\n",
              "      <th>protocol</th>\n",
              "      <th>tx_id</th>\n",
              "    </tr>\n",
              "    <tr>\n",
              "      <th>component_id</th>\n",
              "      <th></th>\n",
              "      <th></th>\n",
              "      <th></th>\n",
              "    </tr>\n",
              "  </thead>\n",
              "  <tbody>\n",
              "    <tr>\n",
              "      <th>0.0</th>\n",
              "      <td>20</td>\n",
              "      <td>20</td>\n",
              "      <td>20</td>\n",
              "    </tr>\n",
              "    <tr>\n",
              "      <th>1.0</th>\n",
              "      <td>3</td>\n",
              "      <td>3</td>\n",
              "      <td>3</td>\n",
              "    </tr>\n",
              "    <tr>\n",
              "      <th>2.0</th>\n",
              "      <td>2</td>\n",
              "      <td>2</td>\n",
              "      <td>2</td>\n",
              "    </tr>\n",
              "    <tr>\n",
              "      <th>3.0</th>\n",
              "      <td>2</td>\n",
              "      <td>2</td>\n",
              "      <td>2</td>\n",
              "    </tr>\n",
              "    <tr>\n",
              "      <th>4.0</th>\n",
              "      <td>2</td>\n",
              "      <td>2</td>\n",
              "      <td>2</td>\n",
              "    </tr>\n",
              "    <tr>\n",
              "      <th>5.0</th>\n",
              "      <td>2</td>\n",
              "      <td>2</td>\n",
              "      <td>2</td>\n",
              "    </tr>\n",
              "    <tr>\n",
              "      <th>6.0</th>\n",
              "      <td>2</td>\n",
              "      <td>2</td>\n",
              "      <td>2</td>\n",
              "    </tr>\n",
              "    <tr>\n",
              "      <th>7.0</th>\n",
              "      <td>2</td>\n",
              "      <td>2</td>\n",
              "      <td>2</td>\n",
              "    </tr>\n",
              "    <tr>\n",
              "      <th>8.0</th>\n",
              "      <td>2</td>\n",
              "      <td>2</td>\n",
              "      <td>2</td>\n",
              "    </tr>\n",
              "    <tr>\n",
              "      <th>9.0</th>\n",
              "      <td>2</td>\n",
              "      <td>2</td>\n",
              "      <td>2</td>\n",
              "    </tr>\n",
              "    <tr>\n",
              "      <th>10.0</th>\n",
              "      <td>2</td>\n",
              "      <td>2</td>\n",
              "      <td>2</td>\n",
              "    </tr>\n",
              "    <tr>\n",
              "      <th>11.0</th>\n",
              "      <td>2</td>\n",
              "      <td>2</td>\n",
              "      <td>2</td>\n",
              "    </tr>\n",
              "    <tr>\n",
              "      <th>12.0</th>\n",
              "      <td>2</td>\n",
              "      <td>2</td>\n",
              "      <td>2</td>\n",
              "    </tr>\n",
              "    <tr>\n",
              "      <th>13.0</th>\n",
              "      <td>2</td>\n",
              "      <td>2</td>\n",
              "      <td>2</td>\n",
              "    </tr>\n",
              "  </tbody>\n",
              "</table>\n",
              "</div>"
            ],
            "text/plain": [
              "              pool_name  protocol  tx_id\n",
              "component_id                            \n",
              "0.0                  20        20     20\n",
              "1.0                   3         3      3\n",
              "2.0                   2         2      2\n",
              "3.0                   2         2      2\n",
              "4.0                   2         2      2\n",
              "5.0                   2         2      2\n",
              "6.0                   2         2      2\n",
              "7.0                   2         2      2\n",
              "8.0                   2         2      2\n",
              "9.0                   2         2      2\n",
              "10.0                  2         2      2\n",
              "11.0                  2         2      2\n",
              "12.0                  2         2      2\n",
              "13.0                  2         2      2"
            ]
          },
          "execution_count": 46,
          "metadata": {},
          "output_type": "execute_result"
        }
      ],
      "source": [
        "points = arb_txs.groupby(['pool_name','protocol','component_id']).tx_id.count().reset_index()\n",
        "df=points[points.component_id==points.component_id.min()]\\\n",
        "        .sort_values(by='tx_id',ascending=False).head(20)\n",
        "for i in range(int(points.component_id.min())+1,int(points.component_id.max())+1):\n",
        "    df = df.append(points[points.component_id==i]\\\n",
        "        .sort_values(by='tx_id',ascending=False).head(20))\n",
        "df.rename(columns={'protocol':'Protocol'}).to_csv('./ust_arb_points.csv')\n",
        "df.groupby('component_id').count()"
      ]
    },
    {
      "cell_type": "markdown",
      "metadata": {
        "id": "ojvSRZJlCt0p"
      },
      "source": [
        "**Profit per component**"
      ]
    },
    {
      "cell_type": "code",
      "execution_count": null,
      "metadata": {
        "id": "VKE0TlAmCt0p",
        "outputId": "2d925e84-caac-4eaa-c010-a98e80990676"
      },
      "outputs": [
        {
          "data": {
            "text/plain": [
              "<AxesSubplot:xlabel='component'>"
            ]
          },
          "execution_count": 47,
          "metadata": {},
          "output_type": "execute_result"
        },
        {
          "data": {
            "image/png": "[encoded data removed]",
            "text/plain": [
              "<Figure size 1080x360 with 1 Axes>"
            ]
          },
          "metadata": {
            "needs_background": "light"
          },
          "output_type": "display_data"
        }
      ],
      "source": [
        "component_profit = {}\n",
        "for i, contr in components_id.items():\n",
        "    component_profit[i] = arb[arb.tx_id.isin(arb_txs[arb_txs.pool_name.isin(components_id[i])].tx_id)].profit.sum()\n",
        "pd.DataFrame(component_profit.items(),columns=['component','profit'])\\\n",
        "            .set_index('component').profit.sort_values(ascending=False).plot(kind='bar')\n"
      ]
    },
    {
      "cell_type": "markdown",
      "metadata": {
        "id": "t_MbPkeaCt0p"
      },
      "source": [
        "**Most profitable trades**"
      ]
    },
    {
      "cell_type": "code",
      "execution_count": null,
      "metadata": {
        "id": "3pyYEzmsCt0q"
      },
      "outputs": [],
      "source": [
        "most_profit = arb[['profit','tx_id']].set_index('tx_id').profit.sort_values(ascending=False).head(10)\n"
      ]
    },
    {
      "cell_type": "code",
      "execution_count": null,
      "metadata": {
        "id": "N3WffVp0Ct0q",
        "outputId": "51b05eea-2a67-42bc-d503-cd9a2fd88704"
      },
      "outputs": [
        {
          "data": {
            "text/html": [
              "<div>\n",
              "<style scoped>\n",
              "    .dataframe tbody tr th:only-of-type {\n",
              "        vertical-align: middle;\n",
              "    }\n",
              "\n",
              "    .dataframe tbody tr th {\n",
              "        vertical-align: top;\n",
              "    }\n",
              "\n",
              "    .dataframe thead th {\n",
              "        text-align: right;\n",
              "    }\n",
              "</style>\n",
              "<table border=\"1\" class=\"dataframe\">\n",
              "  <thead>\n",
              "    <tr style=\"text-align: right;\">\n",
              "      <th></th>\n",
              "      <th>tx_id</th>\n",
              "      <th>pool_contract_address_0</th>\n",
              "      <th>pool_contract_address_1</th>\n",
              "      <th>pool_contract_address_2</th>\n",
              "      <th>pool_contract_address_3</th>\n",
              "      <th>pool_contract_address_4</th>\n",
              "      <th>pool_contract_address_5</th>\n",
              "      <th>pool_contract_address_6</th>\n",
              "      <th>pool_contract_address_7</th>\n",
              "      <th>pool_contract_address_8</th>\n",
              "      <th>pool_contract_address_9</th>\n",
              "    </tr>\n",
              "  </thead>\n",
              "  <tbody>\n",
              "    <tr>\n",
              "      <th>0</th>\n",
              "      <td>32848B837CFD6D84C1157839EB6189366700565987F8F93848407F5D4EAC7B70</td>\n",
              "      <td>terra1gm5p3ner9x9xpwugn9sp6gvhd0lwrtkyrecdn3</td>\n",
              "      <td>terra10dtff8drpwtfx4976m7cxwpptfy87l5p264xgy</td>\n",
              "      <td>terra18adm0emn6j3pnc90ldechhun62y898xrdmfgfz</td>\n",
              "      <td>NaN</td>\n",
              "      <td>NaN</td>\n",
              "      <td>NaN</td>\n",
              "      <td>NaN</td>\n",
              "      <td>NaN</td>\n",
              "      <td>NaN</td>\n",
              "      <td>NaN</td>\n",
              "    </tr>\n",
              "    <tr>\n",
              "      <th>1</th>\n",
              "      <td>16117CCECD192D94ED00FFE09596AC8531DACE407DC0026C677A717088F3158A</td>\n",
              "      <td>terra1qpd9n7afwf45rkjlpujrrdfh83pldec8rpujgn</td>\n",
              "      <td>terra1jxazgm67et0ce260kvrpfv50acuushpjsz2y0p</td>\n",
              "      <td>terra1tndcaqxkpc5ce9qee5ggqf430mr2z3pefe5wj6</td>\n",
              "      <td>NaN</td>\n",
              "      <td>NaN</td>\n",
              "      <td>NaN</td>\n",
              "      <td>NaN</td>\n",
              "      <td>NaN</td>\n",
              "      <td>NaN</td>\n",
              "      <td>NaN</td>\n",
              "    </tr>\n",
              "    <tr>\n",
              "      <th>2</th>\n",
              "      <td>42AAF913390A56A86124F1D315C7841A8AAD78DEB39659941123D153163C11D5</td>\n",
              "      <td>terra163pkeeuwxzr0yhndf8xd2jprm9hrtk59xf7nqf</td>\n",
              "      <td>terra14zhkur7l7ut7tx6kvj28fp5q982lrqns59mnp3</td>\n",
              "      <td>terra1tfrecwlvzcv9h697q3g0d08vd53ssu5w4war4n</td>\n",
              "      <td>terra1c0afrdc5253tkp5wt7rxhuj42xwyf2lcre0s7c</td>\n",
              "      <td>NaN</td>\n",
              "      <td>NaN</td>\n",
              "      <td>NaN</td>\n",
              "      <td>NaN</td>\n",
              "      <td>NaN</td>\n",
              "      <td>NaN</td>\n",
              "    </tr>\n",
              "    <tr>\n",
              "      <th>3</th>\n",
              "      <td>3A12F0E864BF4C0A1AD53ED9197738BFAB17B57B414D5DE39D6B2F2BE65AD81B</td>\n",
              "      <td>terra106a00unep7pvwvcck4wylt4fffjhgkf9a0u6eu</td>\n",
              "      <td>terra1tus5ec9qsdht8dapq9ldfnsf8eehnfmwvsut83</td>\n",
              "      <td>terra1sgu6yca6yjk0a34l86u6ju4apjcd6refwuhgzv</td>\n",
              "      <td>NaN</td>\n",
              "      <td>NaN</td>\n",
              "      <td>NaN</td>\n",
              "      <td>NaN</td>\n",
              "      <td>NaN</td>\n",
              "      <td>NaN</td>\n",
              "      <td>NaN</td>\n",
              "    </tr>\n",
              "    <tr>\n",
              "      <th>4</th>\n",
              "      <td>5607BDA9440DE113D7F6F08BADCA5AEAB3F5028ED98D5E5944EA6668D190FA1B</td>\n",
              "      <td>terra1yjmpu9c3dzknf8axtp6k74nvkwrd457u7p2sdr</td>\n",
              "      <td>terra1uyvksaz9xpgxpqnq8vz9vzg59up8mlhx3463tf</td>\n",
              "      <td>NaN</td>\n",
              "      <td>NaN</td>\n",
              "      <td>NaN</td>\n",
              "      <td>NaN</td>\n",
              "      <td>NaN</td>\n",
              "      <td>NaN</td>\n",
              "      <td>NaN</td>\n",
              "      <td>NaN</td>\n",
              "    </tr>\n",
              "    <tr>\n",
              "      <th>5</th>\n",
              "      <td>73E5A39AFE0AC835B04AC055E60F691E09EF767819C647A34FDE202DED28EF58</td>\n",
              "      <td>terra163pkeeuwxzr0yhndf8xd2jprm9hrtk59xf7nqf</td>\n",
              "      <td>terra14zhkur7l7ut7tx6kvj28fp5q982lrqns59mnp3</td>\n",
              "      <td>terra1tfrecwlvzcv9h697q3g0d08vd53ssu5w4war4n</td>\n",
              "      <td>terra1c0afrdc5253tkp5wt7rxhuj42xwyf2lcre0s7c</td>\n",
              "      <td>NaN</td>\n",
              "      <td>NaN</td>\n",
              "      <td>NaN</td>\n",
              "      <td>NaN</td>\n",
              "      <td>NaN</td>\n",
              "      <td>NaN</td>\n",
              "    </tr>\n",
              "    <tr>\n",
              "      <th>6</th>\n",
              "      <td>F7C5E91B81AD569BE22EDF8B868DB238B971309E58AA8496D592F52008B7D169</td>\n",
              "      <td>terra15s2wgdeqhuc4gfg7sfjyaep5cch38mwtzmwqrx</td>\n",
              "      <td>terra1e59utusv5rspqsu8t37h5w887d9rdykljedxw0</td>\n",
              "      <td>NaN</td>\n",
              "      <td>NaN</td>\n",
              "      <td>NaN</td>\n",
              "      <td>NaN</td>\n",
              "      <td>NaN</td>\n",
              "      <td>NaN</td>\n",
              "      <td>NaN</td>\n",
              "      <td>NaN</td>\n",
              "    </tr>\n",
              "    <tr>\n",
              "      <th>7</th>\n",
              "      <td>B342DE77F0A651C4587AF7C7D48DD673DE3C2F1A30ADCAC9D8CAD01824B86E4F</td>\n",
              "      <td>terra1z6tp0ruxvynsx5r9mmcc2wcezz9ey9pmrw5r8g</td>\n",
              "      <td>terra1mxyp5z27xxgmv70xpqjk7jvfq54as9dfzug74m</td>\n",
              "      <td>NaN</td>\n",
              "      <td>NaN</td>\n",
              "      <td>NaN</td>\n",
              "      <td>NaN</td>\n",
              "      <td>NaN</td>\n",
              "      <td>NaN</td>\n",
              "      <td>NaN</td>\n",
              "      <td>NaN</td>\n",
              "    </tr>\n",
              "    <tr>\n",
              "      <th>8</th>\n",
              "      <td>36ADDA8B5018B1164E771F204E858A95ABA1E02BA72EFA0D86C72BB75B5A32E5</td>\n",
              "      <td>terra1ykfz4hrq8en2f098j8a4ppaq8u8hangpw9tnqu</td>\n",
              "      <td>terra1nmheu06jz6mxsg5n8nnmyn6fxgnvxzk28femx2</td>\n",
              "      <td>NaN</td>\n",
              "      <td>NaN</td>\n",
              "      <td>NaN</td>\n",
              "      <td>NaN</td>\n",
              "      <td>NaN</td>\n",
              "      <td>NaN</td>\n",
              "      <td>NaN</td>\n",
              "      <td>NaN</td>\n",
              "    </tr>\n",
              "    <tr>\n",
              "      <th>9</th>\n",
              "      <td>8C9427478AC6FCAA6B18A89C5D852E7CC565881ACB22BA787E8AD1A25F6C52DE</td>\n",
              "      <td>terra1nmheu06jz6mxsg5n8nnmyn6fxgnvxzk28femx2</td>\n",
              "      <td>terra1ykfz4hrq8en2f098j8a4ppaq8u8hangpw9tnqu</td>\n",
              "      <td>NaN</td>\n",
              "      <td>NaN</td>\n",
              "      <td>NaN</td>\n",
              "      <td>NaN</td>\n",
              "      <td>NaN</td>\n",
              "      <td>NaN</td>\n",
              "      <td>NaN</td>\n",
              "      <td>NaN</td>\n",
              "    </tr>\n",
              "  </tbody>\n",
              "</table>\n",
              "</div>"
            ],
            "text/plain": [
              "                                                              tx_id  \\\n",
              "0  32848B837CFD6D84C1157839EB6189366700565987F8F93848407F5D4EAC7B70   \n",
              "1  16117CCECD192D94ED00FFE09596AC8531DACE407DC0026C677A717088F3158A   \n",
              "2  42AAF913390A56A86124F1D315C7841A8AAD78DEB39659941123D153163C11D5   \n",
              "3  3A12F0E864BF4C0A1AD53ED9197738BFAB17B57B414D5DE39D6B2F2BE65AD81B   \n",
              "4  5607BDA9440DE113D7F6F08BADCA5AEAB3F5028ED98D5E5944EA6668D190FA1B   \n",
              "5  73E5A39AFE0AC835B04AC055E60F691E09EF767819C647A34FDE202DED28EF58   \n",
              "6  F7C5E91B81AD569BE22EDF8B868DB238B971309E58AA8496D592F52008B7D169   \n",
              "7  B342DE77F0A651C4587AF7C7D48DD673DE3C2F1A30ADCAC9D8CAD01824B86E4F   \n",
              "8  36ADDA8B5018B1164E771F204E858A95ABA1E02BA72EFA0D86C72BB75B5A32E5   \n",
              "9  8C9427478AC6FCAA6B18A89C5D852E7CC565881ACB22BA787E8AD1A25F6C52DE   \n",
              "\n",
              "                        pool_contract_address_0  \\\n",
              "0  terra1gm5p3ner9x9xpwugn9sp6gvhd0lwrtkyrecdn3   \n",
              "1  terra1qpd9n7afwf45rkjlpujrrdfh83pldec8rpujgn   \n",
              "2  terra163pkeeuwxzr0yhndf8xd2jprm9hrtk59xf7nqf   \n",
              "3  terra106a00unep7pvwvcck4wylt4fffjhgkf9a0u6eu   \n",
              "4  terra1yjmpu9c3dzknf8axtp6k74nvkwrd457u7p2sdr   \n",
              "5  terra163pkeeuwxzr0yhndf8xd2jprm9hrtk59xf7nqf   \n",
              "6  terra15s2wgdeqhuc4gfg7sfjyaep5cch38mwtzmwqrx   \n",
              "7  terra1z6tp0ruxvynsx5r9mmcc2wcezz9ey9pmrw5r8g   \n",
              "8  terra1ykfz4hrq8en2f098j8a4ppaq8u8hangpw9tnqu   \n",
              "9  terra1nmheu06jz6mxsg5n8nnmyn6fxgnvxzk28femx2   \n",
              "\n",
              "                        pool_contract_address_1  \\\n",
              "0  terra10dtff8drpwtfx4976m7cxwpptfy87l5p264xgy   \n",
              "1  terra1jxazgm67et0ce260kvrpfv50acuushpjsz2y0p   \n",
              "2  terra14zhkur7l7ut7tx6kvj28fp5q982lrqns59mnp3   \n",
              "3  terra1tus5ec9qsdht8dapq9ldfnsf8eehnfmwvsut83   \n",
              "4  terra1uyvksaz9xpgxpqnq8vz9vzg59up8mlhx3463tf   \n",
              "5  terra14zhkur7l7ut7tx6kvj28fp5q982lrqns59mnp3   \n",
              "6  terra1e59utusv5rspqsu8t37h5w887d9rdykljedxw0   \n",
              "7  terra1mxyp5z27xxgmv70xpqjk7jvfq54as9dfzug74m   \n",
              "8  terra1nmheu06jz6mxsg5n8nnmyn6fxgnvxzk28femx2   \n",
              "9  terra1ykfz4hrq8en2f098j8a4ppaq8u8hangpw9tnqu   \n",
              "\n",
              "                        pool_contract_address_2  \\\n",
              "0  terra18adm0emn6j3pnc90ldechhun62y898xrdmfgfz   \n",
              "1  terra1tndcaqxkpc5ce9qee5ggqf430mr2z3pefe5wj6   \n",
              "2  terra1tfrecwlvzcv9h697q3g0d08vd53ssu5w4war4n   \n",
              "3  terra1sgu6yca6yjk0a34l86u6ju4apjcd6refwuhgzv   \n",
              "4                                           NaN   \n",
              "5  terra1tfrecwlvzcv9h697q3g0d08vd53ssu5w4war4n   \n",
              "6                                           NaN   \n",
              "7                                           NaN   \n",
              "8                                           NaN   \n",
              "9                                           NaN   \n",
              "\n",
              "                        pool_contract_address_3 pool_contract_address_4  \\\n",
              "0                                           NaN                     NaN   \n",
              "1                                           NaN                     NaN   \n",
              "2  terra1c0afrdc5253tkp5wt7rxhuj42xwyf2lcre0s7c                     NaN   \n",
              "3                                           NaN                     NaN   \n",
              "4                                           NaN                     NaN   \n",
              "5  terra1c0afrdc5253tkp5wt7rxhuj42xwyf2lcre0s7c                     NaN   \n",
              "6                                           NaN                     NaN   \n",
              "7                                           NaN                     NaN   \n",
              "8                                           NaN                     NaN   \n",
              "9                                           NaN                     NaN   \n",
              "\n",
              "  pool_contract_address_5 pool_contract_address_6 pool_contract_address_7  \\\n",
              "0                     NaN                     NaN                     NaN   \n",
              "1                     NaN                     NaN                     NaN   \n",
              "2                     NaN                     NaN                     NaN   \n",
              "3                     NaN                     NaN                     NaN   \n",
              "4                     NaN                     NaN                     NaN   \n",
              "5                     NaN                     NaN                     NaN   \n",
              "6                     NaN                     NaN                     NaN   \n",
              "7                     NaN                     NaN                     NaN   \n",
              "8                     NaN                     NaN                     NaN   \n",
              "9                     NaN                     NaN                     NaN   \n",
              "\n",
              "  pool_contract_address_8 pool_contract_address_9  \n",
              "0                     NaN                     NaN  \n",
              "1                     NaN                     NaN  \n",
              "2                     NaN                     NaN  \n",
              "3                     NaN                     NaN  \n",
              "4                     NaN                     NaN  \n",
              "5                     NaN                     NaN  \n",
              "6                     NaN                     NaN  \n",
              "7                     NaN                     NaN  \n",
              "8                     NaN                     NaN  \n",
              "9                     NaN                     NaN  "
            ]
          },
          "execution_count": 49,
          "metadata": {},
          "output_type": "execute_result"
        }
      ],
      "source": [
        "tx_path = arb_txs[(arb_txs.tx_id.isin(most_profit.index.tolist()))&(arb_txs.msg_index==0)]\\\n",
        "                [['tx_id','pool_contract_address']]\\\n",
        "                .rename(columns={'pool_contract_address':f'pool_contract_address_{0}'})\n",
        "for i in range(1,10):\n",
        "    tx_path_next = arb_txs[(arb_txs.tx_id.isin(most_profit.index.tolist()))&(arb_txs.msg_index==i)]\\\n",
        "                    [['tx_id','pool_contract_address']]\\\n",
        "                    .rename(columns={'pool_contract_address':f'pool_contract_address_{i}'})\n",
        "    tx_path=tx_path.merge(tx_path_next,how='left',on='tx_id')\n",
        "tx_path\n"
      ]
    },
    {
      "cell_type": "markdown",
      "metadata": {
        "id": "51WSBxYqCt0q"
      },
      "source": [
        "**N° bots over time**"
      ]
    },
    {
      "cell_type": "code",
      "execution_count": null,
      "metadata": {
        "id": "nDq5lndICt0q",
        "outputId": "9bd8dfbe-0c0f-4414-90f9-9f27fc6e2475"
      },
      "outputs": [
        {
          "data": {
            "text/plain": [
              "<AxesSubplot:xlabel='year_month_day'>"
            ]
          },
          "execution_count": 50,
          "metadata": {},
          "output_type": "execute_result"
        },
        {
          "data": {
            "image/png": "[encoded data removed]",
            "text/plain": [
              "<Figure size 1080x360 with 1 Axes>"
            ]
          },
          "metadata": {
            "needs_background": "light"
          },
          "output_type": "display_data"
        }
      ],
      "source": [
        "arb_txs.groupby('year_month_day').sender.nunique().plot(kind='bar')"
      ]
    },
    {
      "cell_type": "markdown",
      "metadata": {
        "id": "TiPxCWL7Ct0q"
      },
      "source": [
        "**Txs over time**"
      ]
    },
    {
      "cell_type": "code",
      "execution_count": null,
      "metadata": {
        "id": "43fC69m0Ct0q",
        "outputId": "cea3e761-fcac-4708-bc0a-b6d01f2210b3"
      },
      "outputs": [
        {
          "data": {
            "text/plain": [
              "<AxesSubplot:xlabel='year_month_day'>"
            ]
          },
          "execution_count": 51,
          "metadata": {},
          "output_type": "execute_result"
        },
        {
          "data": {
            "image/png": "[encoded data removed]",
            "text/plain": [
              "<Figure size 1080x360 with 1 Axes>"
            ]
          },
          "metadata": {
            "needs_background": "light"
          },
          "output_type": "display_data"
        }
      ],
      "source": [
        "arb_txs.groupby('year_month_day').tx_id.count().plot(kind='bar')"
      ]
    },
    {
      "cell_type": "markdown",
      "metadata": {
        "id": "ZwDRQlY9Ct0r"
      },
      "source": [
        "**Average profit over time**"
      ]
    },
    {
      "cell_type": "code",
      "execution_count": null,
      "metadata": {
        "id": "htzlsQ3-Ct0r",
        "outputId": "34b00835-2c4c-4997-dea4-164dbfe1b6c5"
      },
      "outputs": [
        {
          "data": {
            "text/plain": [
              "<AxesSubplot:xlabel='year_month_day'>"
            ]
          },
          "execution_count": 52,
          "metadata": {},
          "output_type": "execute_result"
        },
        {
          "data": {
            "image/png": "[encoded data removed]",
            "text/plain": [
              "<Figure size 1080x360 with 1 Axes>"
            ]
          },
          "metadata": {
            "needs_background": "light"
          },
          "output_type": "display_data"
        }
      ],
      "source": [
        "arb[['tx_id','profit']].merge(arb_txs[['tx_id','year_month_day']], on='tx_id')\\\n",
        "            .groupby('year_month_day')\\\n",
        "            .profit.median()\\\n",
        "            .plot(kind='bar')"
      ]
    },
    {
      "cell_type": "markdown",
      "metadata": {
        "id": "1Yt3mZoDCt0r"
      },
      "source": [
        "**Max profit txs**"
      ]
    },
    {
      "cell_type": "code",
      "execution_count": null,
      "metadata": {
        "id": "FuieKKCQCt0r",
        "outputId": "a67d14b8-27ad-475f-b9b1-396407e083de"
      },
      "outputs": [
        {
          "data": {
            "text/plain": [
              "ask_asset_first                                    terra1nef5jf6c7js9x6gkntlehgywvjlpytm7pcgkn4\n",
              "block_timestamp_first                                                2021-12-20 03:00:57.673000\n",
              "from__first                                        terra106a00unep7pvwvcck4wylt4fffjhgkf9a0u6eu\n",
              "msg_index_first                                                                               0\n",
              "offer_amount_first                                                                22635011417.0\n",
              "offer_asset_first                                                                          uusd\n",
              "pool_contract_address_first                        terra106a00unep7pvwvcck4wylt4fffjhgkf9a0u6eu\n",
              "return_amount_first                                                               90776319604.0\n",
              "sender_first                                       terra163duvmyt7h6uzyc4jnzl607wdrvftnv8ar3epf\n",
              "to__first                                          terra163duvmyt7h6uzyc4jnzl607wdrvftnv8ar3epf\n",
              "tx_id                          3A12F0E864BF4C0A1AD53ED9197738BFAB17B57B414D5DE39D6B2F2BE65AD81B\n",
              "month_day_first                                                                           12/20\n",
              "year_month_day_first                                                                 2021/12/20\n",
              "pool_name_first                                                              LOOP LOOP-UST Pair\n",
              "protocol_first                                                                             Loop\n",
              "max_index_first                                                                               2\n",
              "min_index_first                                                                               0\n",
              "ask_asset_last                                                                             uusd\n",
              "block_timestamp_last                                                 2021-12-20 03:00:57.673000\n",
              "from__last                                                                                     \n",
              "msg_index_last                                                                                2\n",
              "offer_amount_last                                                                   261340034.0\n",
              "offer_asset_last                                                                          uluna\n",
              "pool_contract_address_last                         terra1sgu6yca6yjk0a34l86u6ju4apjcd6refwuhgzv\n",
              "return_amount_last                                                                25258569033.0\n",
              "sender_last                                        terra163duvmyt7h6uzyc4jnzl607wdrvftnv8ar3epf\n",
              "to__last                                                                                       \n",
              "month_day_last                                                                            12/20\n",
              "year_month_day_last                                                                  2021/12/20\n",
              "pool_name_last                                                               LOOP LUNA-UST Pair\n",
              "protocol_last                                                                              Loop\n",
              "max_index_last                                                                                2\n",
              "min_index_last                                                                                0\n",
              "profit                                                                              2623.557616\n",
              "sender_first_short                                                           terra163du...r3epf\n",
              "Name: 2176, dtype: object"
            ]
          },
          "execution_count": 53,
          "metadata": {},
          "output_type": "execute_result"
        }
      ],
      "source": [
        "arb.loc[arb.profit.idxmax()]"
      ]
    },
    {
      "cell_type": "markdown",
      "metadata": {
        "id": "y7y1QljTCt0r"
      },
      "source": [
        "**Total profitted UST**"
      ]
    },
    {
      "cell_type": "code",
      "execution_count": null,
      "metadata": {
        "id": "1kSl7CKyCt0r",
        "outputId": "028b5293-de60-427d-b968-598a256d2475"
      },
      "outputs": [
        {
          "data": {
            "text/plain": [
              "<AxesSubplot:xlabel='sender_first_short'>"
            ]
          },
          "execution_count": 54,
          "metadata": {},
          "output_type": "execute_result"
        },
        {
          "data": {
            "image/png": "[encoded data removed]",
            "text/plain": [
              "<Figure size 1080x360 with 1 Axes>"
            ]
          },
          "metadata": {
            "needs_background": "light"
          },
          "output_type": "display_data"
        }
      ],
      "source": [
        "addr_profit = arb.groupby('sender_first_short').profit.sum().sort_values(ascending=False)\n",
        "df = addr_profit.head(10).reset_index()\n",
        "df['Y'] = 1\n",
        "df.to_csv('./top_profit_addr.csv')\n",
        "addr_profit.plot(kind='bar',rot=30)"
      ]
    },
    {
      "cell_type": "code",
      "execution_count": null,
      "metadata": {
        "id": "54CDOxySCt0s"
      },
      "outputs": [],
      "source": [
        "addr_profit = arb.groupby('sender_first_short').profit.sum().reset_index()\n",
        "addr_txs = arb.groupby('sender_first_short').tx_id.count().reset_index()"
      ]
    },
    {
      "cell_type": "code",
      "execution_count": null,
      "metadata": {
        "id": "H-P56bVfCt0s"
      },
      "outputs": [],
      "source": [
        "df = addr_profit.merge(addr_txs, on='sender_first_short')\n",
        "df[df.sender_first_short!='...'].rename(columns={\n",
        "    'sender_first_short':'Address',\n",
        "    'profit':'Net arbitrage profit (UST)',\n",
        "    'tx_id':'Number of arbitrage transactions'\n",
        "})\\\n",
        "        .to_csv('./txs_profit_addr.csv')"
      ]
    },
    {
      "cell_type": "markdown",
      "metadata": {
        "id": "CiAxegAbCt0s"
      },
      "source": [
        "**Most central nodes**"
      ]
    },
    {
      "cell_type": "code",
      "execution_count": null,
      "metadata": {
        "id": "vHDOQU37Ct0s",
        "outputId": "23aa3e6e-682b-4ed9-adba-b16b15369907"
      },
      "outputs": [
        {
          "name": "stdout",
          "output_type": "stream",
          "text": [
            "Top 20 nodes by degree:\n"
          ]
        },
        {
          "data": {
            "text/plain": [
              "<AxesSubplot:xlabel='pool_name'>"
            ]
          },
          "execution_count": 57,
          "metadata": {},
          "output_type": "execute_result"
        },
        {
          "data": {
            "image/png": "[encoded data removed]",
            "text/plain": [
              "<Figure size 1080x360 with 1 Axes>"
            ]
          },
          "metadata": {
            "needs_background": "light"
          },
          "output_type": "display_data"
        }
      ],
      "source": [
        "from operator import itemgetter\n",
        "degree_dict = dict(G.degree(G.nodes()))\n",
        "nx.set_node_attributes(G, degree_dict, 'degree')\n",
        "sorted_degree = sorted(degree_dict.items(), key=itemgetter(1), reverse=True)\n",
        "print(\"Top 20 nodes by degree:\")\n",
        "df = pd.DataFrame(sorted_degree, columns=['pool_name','degree'])\\\n",
        "            .set_index('pool_name').degree.sort_values(ascending=False)\n",
        "df.head(20).plot(kind='bar')"
      ]
    },
    {
      "cell_type": "markdown",
      "metadata": {
        "id": "Bda0kyw6Ct0s"
      },
      "source": [
        "**Query**"
      ]
    },
    {
      "cell_type": "code",
      "execution_count": null,
      "metadata": {
        "id": "FL09cJoDCt0s",
        "outputId": "24ba8dba-cc62-441d-91a9-5011b1bb68f3"
      },
      "outputs": [
        {
          "data": {
            "text/plain": [
              "11539    terra1uxf47plxtc9tj4lnfwrlah0xp04hhhquye0wcf\n",
              "24781    terra1uxf47plxtc9tj4lnfwrlah0xp04hhhquye0wcf\n",
              "26321    terra1uxf47plxtc9tj4lnfwrlah0xp04hhhquye0wcf\n",
              "32576    terra1uxf47plxtc9tj4lnfwrlah0xp04hhhquye0wcf\n",
              "32617    terra1uxf47plxtc9tj4lnfwrlah0xp04hhhquye0wcf\n",
              "                             ...                     \n",
              "52447    terra1uxf47plxtc9tj4lnfwrlah0xp04hhhquye0wcf\n",
              "52883    terra1uxf47plxtc9tj4lnfwrlah0xp04hhhquye0wcf\n",
              "61717    terra1uxf47plxtc9tj4lnfwrlah0xp04hhhquye0wcf\n",
              "62999    terra1uxf47plxtc9tj4lnfwrlah0xp04hhhquye0wcf\n",
              "63001    terra1uxf47plxtc9tj4lnfwrlah0xp04hhhquye0wcf\n",
              "Name: pool_contract_address, Length: 141, dtype: object"
            ]
          },
          "execution_count": 58,
          "metadata": {},
          "output_type": "execute_result"
        }
      ],
      "source": [
        "arb_txs[arb_txs.pool_contract_address.str.contains('wcf')].pool_contract_address"
      ]
    },
    {
      "cell_type": "code",
      "execution_count": null,
      "metadata": {
        "id": "fLJYPwtjCt0t",
        "outputId": "03092c8a-94c9-4373-8f9b-58f385f43d9b"
      },
      "outputs": [
        {
          "data": {
            "text/html": [
              "<div>\n",
              "<style scoped>\n",
              "    .dataframe tbody tr th:only-of-type {\n",
              "        vertical-align: middle;\n",
              "    }\n",
              "\n",
              "    .dataframe tbody tr th {\n",
              "        vertical-align: top;\n",
              "    }\n",
              "\n",
              "    .dataframe thead th {\n",
              "        text-align: right;\n",
              "    }\n",
              "</style>\n",
              "<table border=\"1\" class=\"dataframe\">\n",
              "  <thead>\n",
              "    <tr style=\"text-align: right;\">\n",
              "      <th></th>\n",
              "      <th>ask_asset</th>\n",
              "      <th>block_timestamp</th>\n",
              "      <th>from_</th>\n",
              "      <th>msg_index</th>\n",
              "      <th>offer_amount</th>\n",
              "      <th>offer_asset</th>\n",
              "      <th>pool_contract_address</th>\n",
              "      <th>return_amount</th>\n",
              "      <th>sender</th>\n",
              "      <th>to_</th>\n",
              "      <th>tx_id</th>\n",
              "      <th>month_day</th>\n",
              "      <th>year_month_day</th>\n",
              "      <th>pool_name</th>\n",
              "      <th>protocol</th>\n",
              "      <th>component_id</th>\n",
              "    </tr>\n",
              "  </thead>\n",
              "  <tbody>\n",
              "    <tr>\n",
              "      <th>33916</th>\n",
              "      <td>terra1xj49zyqrwpv5k928jwfpfy2ha668nwdgkwlrg3</td>\n",
              "      <td>2021-12-29 13:47:55.463000</td>\n",
              "      <td>terra1pufczag48fwqhsmekfullmyu02f93flvfc9a25</td>\n",
              "      <td>0</td>\n",
              "      <td>100000000.0</td>\n",
              "      <td>uusd</td>\n",
              "      <td>terra1pufczag48fwqhsmekfullmyu02f93flvfc9a25</td>\n",
              "      <td>62104171.0</td>\n",
              "      <td>terra1zg8px6tw0nhq6u85lv4ne3xmaq4zrjlxjm5p54</td>\n",
              "      <td>terra1zg8px6tw0nhq6u85lv4ne3xmaq4zrjlxjm5p54</td>\n",
              "      <td>E39A160E6571990B10D31AE1DB0AB9CC8BA219EE2992FF9B11E641E08D774B84</td>\n",
              "      <td>12/29</td>\n",
              "      <td>2021/12/29</td>\n",
              "      <td>Terraswap ASTRO-UST LP</td>\n",
              "      <td>Terraswap</td>\n",
              "      <td>1.0</td>\n",
              "    </tr>\n",
              "    <tr>\n",
              "      <th>34024</th>\n",
              "      <td>terra1xj49zyqrwpv5k928jwfpfy2ha668nwdgkwlrg3</td>\n",
              "      <td>2021-12-29 15:08:53.085000</td>\n",
              "      <td>terra1pufczag48fwqhsmekfullmyu02f93flvfc9a25</td>\n",
              "      <td>0</td>\n",
              "      <td>150000000.0</td>\n",
              "      <td>uusd</td>\n",
              "      <td>terra1pufczag48fwqhsmekfullmyu02f93flvfc9a25</td>\n",
              "      <td>92565167.0</td>\n",
              "      <td>terra1zg8px6tw0nhq6u85lv4ne3xmaq4zrjlxjm5p54</td>\n",
              "      <td>terra1zg8px6tw0nhq6u85lv4ne3xmaq4zrjlxjm5p54</td>\n",
              "      <td>C243840CF1C412E58A1138C31357BF1D35D73ED5110B9AA04A2D8A4486172AB4</td>\n",
              "      <td>12/29</td>\n",
              "      <td>2021/12/29</td>\n",
              "      <td>Terraswap ASTRO-UST LP</td>\n",
              "      <td>Terraswap</td>\n",
              "      <td>1.0</td>\n",
              "    </tr>\n",
              "    <tr>\n",
              "      <th>34042</th>\n",
              "      <td>terra1xj49zyqrwpv5k928jwfpfy2ha668nwdgkwlrg3</td>\n",
              "      <td>2021-12-29 15:25:44.661000</td>\n",
              "      <td>terra1pufczag48fwqhsmekfullmyu02f93flvfc9a25</td>\n",
              "      <td>0</td>\n",
              "      <td>150000000.0</td>\n",
              "      <td>uusd</td>\n",
              "      <td>terra1pufczag48fwqhsmekfullmyu02f93flvfc9a25</td>\n",
              "      <td>92612033.0</td>\n",
              "      <td>terra1zg8px6tw0nhq6u85lv4ne3xmaq4zrjlxjm5p54</td>\n",
              "      <td>terra1zg8px6tw0nhq6u85lv4ne3xmaq4zrjlxjm5p54</td>\n",
              "      <td>EB748EA70AC6E66BC7A32664172705E6298A252D8807B82329BE7D6FAA77F61D</td>\n",
              "      <td>12/29</td>\n",
              "      <td>2021/12/29</td>\n",
              "      <td>Terraswap ASTRO-UST LP</td>\n",
              "      <td>Terraswap</td>\n",
              "      <td>1.0</td>\n",
              "    </tr>\n",
              "    <tr>\n",
              "      <th>34134</th>\n",
              "      <td>uusd</td>\n",
              "      <td>2021-12-29 16:42:02.044000</td>\n",
              "      <td>terra1zg8px6tw0nhq6u85lv4ne3xmaq4zrjlxjm5p54</td>\n",
              "      <td>1</td>\n",
              "      <td>91727813.0</td>\n",
              "      <td>terra1xj49zyqrwpv5k928jwfpfy2ha668nwdgkwlrg3</td>\n",
              "      <td>terra1pufczag48fwqhsmekfullmyu02f93flvfc9a25</td>\n",
              "      <td>150625563.0</td>\n",
              "      <td>terra1zg8px6tw0nhq6u85lv4ne3xmaq4zrjlxjm5p54</td>\n",
              "      <td>terra1pufczag48fwqhsmekfullmyu02f93flvfc9a25</td>\n",
              "      <td>82A57802782BAFA79C22AA2A534AC36565300CC158866A13959E6D09AEEA2099</td>\n",
              "      <td>12/29</td>\n",
              "      <td>2021/12/29</td>\n",
              "      <td>Terraswap ASTRO-UST LP</td>\n",
              "      <td>Terraswap</td>\n",
              "      <td>1.0</td>\n",
              "    </tr>\n",
              "    <tr>\n",
              "      <th>34233</th>\n",
              "      <td>uusd</td>\n",
              "      <td>2021-12-29 18:11:05.347000</td>\n",
              "      <td>terra1zg8px6tw0nhq6u85lv4ne3xmaq4zrjlxjm5p54</td>\n",
              "      <td>1</td>\n",
              "      <td>92198917.0</td>\n",
              "      <td>terra1xj49zyqrwpv5k928jwfpfy2ha668nwdgkwlrg3</td>\n",
              "      <td>terra1pufczag48fwqhsmekfullmyu02f93flvfc9a25</td>\n",
              "      <td>150805800.0</td>\n",
              "      <td>terra1zg8px6tw0nhq6u85lv4ne3xmaq4zrjlxjm5p54</td>\n",
              "      <td>terra1pufczag48fwqhsmekfullmyu02f93flvfc9a25</td>\n",
              "      <td>9BE4B82CCE6676BB7E0E5597DBAC8CE271FD5CAA40C3F190814BCA339017AAE8</td>\n",
              "      <td>12/29</td>\n",
              "      <td>2021/12/29</td>\n",
              "      <td>Terraswap ASTRO-UST LP</td>\n",
              "      <td>Terraswap</td>\n",
              "      <td>1.0</td>\n",
              "    </tr>\n",
              "    <tr>\n",
              "      <th>...</th>\n",
              "      <td>...</td>\n",
              "      <td>...</td>\n",
              "      <td>...</td>\n",
              "      <td>...</td>\n",
              "      <td>...</td>\n",
              "      <td>...</td>\n",
              "      <td>...</td>\n",
              "      <td>...</td>\n",
              "      <td>...</td>\n",
              "      <td>...</td>\n",
              "      <td>...</td>\n",
              "      <td>...</td>\n",
              "      <td>...</td>\n",
              "      <td>...</td>\n",
              "      <td>...</td>\n",
              "      <td>...</td>\n",
              "    </tr>\n",
              "    <tr>\n",
              "      <th>78989</th>\n",
              "      <td>terra1xj49zyqrwpv5k928jwfpfy2ha668nwdgkwlrg3</td>\n",
              "      <td>2022-01-24 10:02:08.563000</td>\n",
              "      <td>terra1pufczag48fwqhsmekfullmyu02f93flvfc9a25</td>\n",
              "      <td>0</td>\n",
              "      <td>147848810.0</td>\n",
              "      <td>uusd</td>\n",
              "      <td>terra1pufczag48fwqhsmekfullmyu02f93flvfc9a25</td>\n",
              "      <td>150112070.0</td>\n",
              "      <td>terra1ek8l68azgkr9cgqf680mqwpsj7yznc8xxhx3fe</td>\n",
              "      <td>terra1ek8l68azgkr9cgqf680mqwpsj7yznc8xxhx3fe</td>\n",
              "      <td>94CCD735E2B844F01B686ED4EA28E539835CB2812610BF5C5F0BA68CB2CCC170</td>\n",
              "      <td>01/24</td>\n",
              "      <td>2022/01/24</td>\n",
              "      <td>Terraswap ASTRO-UST LP</td>\n",
              "      <td>Terraswap</td>\n",
              "      <td>1.0</td>\n",
              "    </tr>\n",
              "    <tr>\n",
              "      <th>79198</th>\n",
              "      <td>uusd</td>\n",
              "      <td>2022-01-24 10:31:17.309000</td>\n",
              "      <td>terra1ek8l68azgkr9cgqf680mqwpsj7yznc8xxhx3fe</td>\n",
              "      <td>1</td>\n",
              "      <td>132753776.0</td>\n",
              "      <td>terra1xj49zyqrwpv5k928jwfpfy2ha668nwdgkwlrg3</td>\n",
              "      <td>terra1pufczag48fwqhsmekfullmyu02f93flvfc9a25</td>\n",
              "      <td>131654272.0</td>\n",
              "      <td>terra1ek8l68azgkr9cgqf680mqwpsj7yznc8xxhx3fe</td>\n",
              "      <td>terra1pufczag48fwqhsmekfullmyu02f93flvfc9a25</td>\n",
              "      <td>482B38A1353A3CDEC4AC497BDB99C3D6381F9AFFB2A8942A339D4A771F0E72D5</td>\n",
              "      <td>01/24</td>\n",
              "      <td>2022/01/24</td>\n",
              "      <td>Terraswap ASTRO-UST LP</td>\n",
              "      <td>Terraswap</td>\n",
              "      <td>1.0</td>\n",
              "    </tr>\n",
              "    <tr>\n",
              "      <th>79928</th>\n",
              "      <td>terra1xj49zyqrwpv5k928jwfpfy2ha668nwdgkwlrg3</td>\n",
              "      <td>2022-01-24 14:15:13.382000</td>\n",
              "      <td>terra1pufczag48fwqhsmekfullmyu02f93flvfc9a25</td>\n",
              "      <td>0</td>\n",
              "      <td>243274941.0</td>\n",
              "      <td>uusd</td>\n",
              "      <td>terra1pufczag48fwqhsmekfullmyu02f93flvfc9a25</td>\n",
              "      <td>249912476.0</td>\n",
              "      <td>terra1ek8l68azgkr9cgqf680mqwpsj7yznc8xxhx3fe</td>\n",
              "      <td>terra1ek8l68azgkr9cgqf680mqwpsj7yznc8xxhx3fe</td>\n",
              "      <td>085623DB7F0C65FC502D712A0724B71BE5E01D9B727C44579E4F0847E23403F0</td>\n",
              "      <td>01/24</td>\n",
              "      <td>2022/01/24</td>\n",
              "      <td>Terraswap ASTRO-UST LP</td>\n",
              "      <td>Terraswap</td>\n",
              "      <td>1.0</td>\n",
              "    </tr>\n",
              "    <tr>\n",
              "      <th>80545</th>\n",
              "      <td>uusd</td>\n",
              "      <td>2022-01-24 15:59:45.488000</td>\n",
              "      <td>terra1ek8l68azgkr9cgqf680mqwpsj7yznc8xxhx3fe</td>\n",
              "      <td>1</td>\n",
              "      <td>116021020.0</td>\n",
              "      <td>terra1xj49zyqrwpv5k928jwfpfy2ha668nwdgkwlrg3</td>\n",
              "      <td>terra1pufczag48fwqhsmekfullmyu02f93flvfc9a25</td>\n",
              "      <td>113916622.0</td>\n",
              "      <td>terra1ek8l68azgkr9cgqf680mqwpsj7yznc8xxhx3fe</td>\n",
              "      <td>terra1pufczag48fwqhsmekfullmyu02f93flvfc9a25</td>\n",
              "      <td>17283A90D9DC2B7214AA00680AD16083EBC216A954F9F579D1F99E4EBC850C8B</td>\n",
              "      <td>01/24</td>\n",
              "      <td>2022/01/24</td>\n",
              "      <td>Terraswap ASTRO-UST LP</td>\n",
              "      <td>Terraswap</td>\n",
              "      <td>1.0</td>\n",
              "    </tr>\n",
              "    <tr>\n",
              "      <th>80941</th>\n",
              "      <td>uusd</td>\n",
              "      <td>2022-01-24 17:44:30.881000</td>\n",
              "      <td>terra1ek8l68azgkr9cgqf680mqwpsj7yznc8xxhx3fe</td>\n",
              "      <td>1</td>\n",
              "      <td>178388389.0</td>\n",
              "      <td>terra1xj49zyqrwpv5k928jwfpfy2ha668nwdgkwlrg3</td>\n",
              "      <td>terra1pufczag48fwqhsmekfullmyu02f93flvfc9a25</td>\n",
              "      <td>174945246.0</td>\n",
              "      <td>terra1ek8l68azgkr9cgqf680mqwpsj7yznc8xxhx3fe</td>\n",
              "      <td>terra1pufczag48fwqhsmekfullmyu02f93flvfc9a25</td>\n",
              "      <td>F9988E10E0EAE1E51B9ADD311301D1CD4DF3D9B86C84749E8882C5D9E643CED4</td>\n",
              "      <td>01/24</td>\n",
              "      <td>2022/01/24</td>\n",
              "      <td>Terraswap ASTRO-UST LP</td>\n",
              "      <td>Terraswap</td>\n",
              "      <td>1.0</td>\n",
              "    </tr>\n",
              "  </tbody>\n",
              "</table>\n",
              "<p>230 rows × 16 columns</p>\n",
              "</div>"
            ],
            "text/plain": [
              "                                          ask_asset  \\\n",
              "33916  terra1xj49zyqrwpv5k928jwfpfy2ha668nwdgkwlrg3   \n",
              "34024  terra1xj49zyqrwpv5k928jwfpfy2ha668nwdgkwlrg3   \n",
              "34042  terra1xj49zyqrwpv5k928jwfpfy2ha668nwdgkwlrg3   \n",
              "34134                                          uusd   \n",
              "34233                                          uusd   \n",
              "...                                             ...   \n",
              "78989  terra1xj49zyqrwpv5k928jwfpfy2ha668nwdgkwlrg3   \n",
              "79198                                          uusd   \n",
              "79928  terra1xj49zyqrwpv5k928jwfpfy2ha668nwdgkwlrg3   \n",
              "80545                                          uusd   \n",
              "80941                                          uusd   \n",
              "\n",
              "                  block_timestamp  \\\n",
              "33916  2021-12-29 13:47:55.463000   \n",
              "34024  2021-12-29 15:08:53.085000   \n",
              "34042  2021-12-29 15:25:44.661000   \n",
              "34134  2021-12-29 16:42:02.044000   \n",
              "34233  2021-12-29 18:11:05.347000   \n",
              "...                           ...   \n",
              "78989  2022-01-24 10:02:08.563000   \n",
              "79198  2022-01-24 10:31:17.309000   \n",
              "79928  2022-01-24 14:15:13.382000   \n",
              "80545  2022-01-24 15:59:45.488000   \n",
              "80941  2022-01-24 17:44:30.881000   \n",
              "\n",
              "                                              from_  msg_index  offer_amount  \\\n",
              "33916  terra1pufczag48fwqhsmekfullmyu02f93flvfc9a25          0   100000000.0   \n",
              "34024  terra1pufczag48fwqhsmekfullmyu02f93flvfc9a25          0   150000000.0   \n",
              "34042  terra1pufczag48fwqhsmekfullmyu02f93flvfc9a25          0   150000000.0   \n",
              "34134  terra1zg8px6tw0nhq6u85lv4ne3xmaq4zrjlxjm5p54          1    91727813.0   \n",
              "34233  terra1zg8px6tw0nhq6u85lv4ne3xmaq4zrjlxjm5p54          1    92198917.0   \n",
              "...                                             ...        ...           ...   \n",
              "78989  terra1pufczag48fwqhsmekfullmyu02f93flvfc9a25          0   147848810.0   \n",
              "79198  terra1ek8l68azgkr9cgqf680mqwpsj7yznc8xxhx3fe          1   132753776.0   \n",
              "79928  terra1pufczag48fwqhsmekfullmyu02f93flvfc9a25          0   243274941.0   \n",
              "80545  terra1ek8l68azgkr9cgqf680mqwpsj7yznc8xxhx3fe          1   116021020.0   \n",
              "80941  terra1ek8l68azgkr9cgqf680mqwpsj7yznc8xxhx3fe          1   178388389.0   \n",
              "\n",
              "                                        offer_asset  \\\n",
              "33916                                          uusd   \n",
              "34024                                          uusd   \n",
              "34042                                          uusd   \n",
              "34134  terra1xj49zyqrwpv5k928jwfpfy2ha668nwdgkwlrg3   \n",
              "34233  terra1xj49zyqrwpv5k928jwfpfy2ha668nwdgkwlrg3   \n",
              "...                                             ...   \n",
              "78989                                          uusd   \n",
              "79198  terra1xj49zyqrwpv5k928jwfpfy2ha668nwdgkwlrg3   \n",
              "79928                                          uusd   \n",
              "80545  terra1xj49zyqrwpv5k928jwfpfy2ha668nwdgkwlrg3   \n",
              "80941  terra1xj49zyqrwpv5k928jwfpfy2ha668nwdgkwlrg3   \n",
              "\n",
              "                              pool_contract_address  return_amount  \\\n",
              "33916  terra1pufczag48fwqhsmekfullmyu02f93flvfc9a25     62104171.0   \n",
              "34024  terra1pufczag48fwqhsmekfullmyu02f93flvfc9a25     92565167.0   \n",
              "34042  terra1pufczag48fwqhsmekfullmyu02f93flvfc9a25     92612033.0   \n",
              "34134  terra1pufczag48fwqhsmekfullmyu02f93flvfc9a25    150625563.0   \n",
              "34233  terra1pufczag48fwqhsmekfullmyu02f93flvfc9a25    150805800.0   \n",
              "...                                             ...            ...   \n",
              "78989  terra1pufczag48fwqhsmekfullmyu02f93flvfc9a25    150112070.0   \n",
              "79198  terra1pufczag48fwqhsmekfullmyu02f93flvfc9a25    131654272.0   \n",
              "79928  terra1pufczag48fwqhsmekfullmyu02f93flvfc9a25    249912476.0   \n",
              "80545  terra1pufczag48fwqhsmekfullmyu02f93flvfc9a25    113916622.0   \n",
              "80941  terra1pufczag48fwqhsmekfullmyu02f93flvfc9a25    174945246.0   \n",
              "\n",
              "                                             sender  \\\n",
              "33916  terra1zg8px6tw0nhq6u85lv4ne3xmaq4zrjlxjm5p54   \n",
              "34024  terra1zg8px6tw0nhq6u85lv4ne3xmaq4zrjlxjm5p54   \n",
              "34042  terra1zg8px6tw0nhq6u85lv4ne3xmaq4zrjlxjm5p54   \n",
              "34134  terra1zg8px6tw0nhq6u85lv4ne3xmaq4zrjlxjm5p54   \n",
              "34233  terra1zg8px6tw0nhq6u85lv4ne3xmaq4zrjlxjm5p54   \n",
              "...                                             ...   \n",
              "78989  terra1ek8l68azgkr9cgqf680mqwpsj7yznc8xxhx3fe   \n",
              "79198  terra1ek8l68azgkr9cgqf680mqwpsj7yznc8xxhx3fe   \n",
              "79928  terra1ek8l68azgkr9cgqf680mqwpsj7yznc8xxhx3fe   \n",
              "80545  terra1ek8l68azgkr9cgqf680mqwpsj7yznc8xxhx3fe   \n",
              "80941  terra1ek8l68azgkr9cgqf680mqwpsj7yznc8xxhx3fe   \n",
              "\n",
              "                                                to_  \\\n",
              "33916  terra1zg8px6tw0nhq6u85lv4ne3xmaq4zrjlxjm5p54   \n",
              "34024  terra1zg8px6tw0nhq6u85lv4ne3xmaq4zrjlxjm5p54   \n",
              "34042  terra1zg8px6tw0nhq6u85lv4ne3xmaq4zrjlxjm5p54   \n",
              "34134  terra1pufczag48fwqhsmekfullmyu02f93flvfc9a25   \n",
              "34233  terra1pufczag48fwqhsmekfullmyu02f93flvfc9a25   \n",
              "...                                             ...   \n",
              "78989  terra1ek8l68azgkr9cgqf680mqwpsj7yznc8xxhx3fe   \n",
              "79198  terra1pufczag48fwqhsmekfullmyu02f93flvfc9a25   \n",
              "79928  terra1ek8l68azgkr9cgqf680mqwpsj7yznc8xxhx3fe   \n",
              "80545  terra1pufczag48fwqhsmekfullmyu02f93flvfc9a25   \n",
              "80941  terra1pufczag48fwqhsmekfullmyu02f93flvfc9a25   \n",
              "\n",
              "                                                                  tx_id  \\\n",
              "33916  E39A160E6571990B10D31AE1DB0AB9CC8BA219EE2992FF9B11E641E08D774B84   \n",
              "34024  C243840CF1C412E58A1138C31357BF1D35D73ED5110B9AA04A2D8A4486172AB4   \n",
              "34042  EB748EA70AC6E66BC7A32664172705E6298A252D8807B82329BE7D6FAA77F61D   \n",
              "34134  82A57802782BAFA79C22AA2A534AC36565300CC158866A13959E6D09AEEA2099   \n",
              "34233  9BE4B82CCE6676BB7E0E5597DBAC8CE271FD5CAA40C3F190814BCA339017AAE8   \n",
              "...                                                                 ...   \n",
              "78989  94CCD735E2B844F01B686ED4EA28E539835CB2812610BF5C5F0BA68CB2CCC170   \n",
              "79198  482B38A1353A3CDEC4AC497BDB99C3D6381F9AFFB2A8942A339D4A771F0E72D5   \n",
              "79928  085623DB7F0C65FC502D712A0724B71BE5E01D9B727C44579E4F0847E23403F0   \n",
              "80545  17283A90D9DC2B7214AA00680AD16083EBC216A954F9F579D1F99E4EBC850C8B   \n",
              "80941  F9988E10E0EAE1E51B9ADD311301D1CD4DF3D9B86C84749E8882C5D9E643CED4   \n",
              "\n",
              "      month_day year_month_day               pool_name   protocol  \\\n",
              "33916     12/29     2021/12/29  Terraswap ASTRO-UST LP  Terraswap   \n",
              "34024     12/29     2021/12/29  Terraswap ASTRO-UST LP  Terraswap   \n",
              "34042     12/29     2021/12/29  Terraswap ASTRO-UST LP  Terraswap   \n",
              "34134     12/29     2021/12/29  Terraswap ASTRO-UST LP  Terraswap   \n",
              "34233     12/29     2021/12/29  Terraswap ASTRO-UST LP  Terraswap   \n",
              "...         ...            ...                     ...        ...   \n",
              "78989     01/24     2022/01/24  Terraswap ASTRO-UST LP  Terraswap   \n",
              "79198     01/24     2022/01/24  Terraswap ASTRO-UST LP  Terraswap   \n",
              "79928     01/24     2022/01/24  Terraswap ASTRO-UST LP  Terraswap   \n",
              "80545     01/24     2022/01/24  Terraswap ASTRO-UST LP  Terraswap   \n",
              "80941     01/24     2022/01/24  Terraswap ASTRO-UST LP  Terraswap   \n",
              "\n",
              "       component_id  \n",
              "33916           1.0  \n",
              "34024           1.0  \n",
              "34042           1.0  \n",
              "34134           1.0  \n",
              "34233           1.0  \n",
              "...             ...  \n",
              "78989           1.0  \n",
              "79198           1.0  \n",
              "79928           1.0  \n",
              "80545           1.0  \n",
              "80941           1.0  \n",
              "\n",
              "[230 rows x 16 columns]"
            ]
          },
          "execution_count": 59,
          "metadata": {},
          "output_type": "execute_result"
        }
      ],
      "source": [
        "arb_txs[arb_txs.pool_contract_address=='terra1pufczag48fwqhsmekfullmyu02f93flvfc9a25']"
      ]
    },
    {
      "cell_type": "code",
      "execution_count": null,
      "metadata": {
        "id": "4TLSRKTzCt0t",
        "outputId": "22f4a04d-a749-4fa3-9d8c-0a02ebd503fa"
      },
      "outputs": [
        {
          "data": {
            "text/html": [
              "<div>\n",
              "<style scoped>\n",
              "    .dataframe tbody tr th:only-of-type {\n",
              "        vertical-align: middle;\n",
              "    }\n",
              "\n",
              "    .dataframe tbody tr th {\n",
              "        vertical-align: top;\n",
              "    }\n",
              "\n",
              "    .dataframe thead th {\n",
              "        text-align: right;\n",
              "    }\n",
              "</style>\n",
              "<table border=\"1\" class=\"dataframe\">\n",
              "  <thead>\n",
              "    <tr style=\"text-align: right;\">\n",
              "      <th></th>\n",
              "      <th>ask_asset</th>\n",
              "      <th>block_timestamp</th>\n",
              "      <th>from_</th>\n",
              "      <th>msg_index</th>\n",
              "      <th>offer_amount</th>\n",
              "      <th>offer_asset</th>\n",
              "      <th>pool_contract_address</th>\n",
              "      <th>return_amount</th>\n",
              "      <th>sender</th>\n",
              "      <th>to_</th>\n",
              "      <th>tx_id</th>\n",
              "      <th>month_day</th>\n",
              "      <th>year_month_day</th>\n",
              "      <th>pool_name</th>\n",
              "      <th>protocol</th>\n",
              "      <th>component_id</th>\n",
              "    </tr>\n",
              "  </thead>\n",
              "  <tbody>\n",
              "    <tr>\n",
              "      <th>4126</th>\n",
              "      <td>uusd</td>\n",
              "      <td>2021-12-04 20:13:58.246000</td>\n",
              "      <td>terra163duvmyt7h6uzyc4jnzl607wdrvftnv8ar3epf</td>\n",
              "      <td>2</td>\n",
              "      <td>2.969169e+08</td>\n",
              "      <td>terra14z56l0fp2lsf86zy3hty2z47ezkhnthtr9yq76</td>\n",
              "      <td>terra1gm5p3ner9x9xpwugn9sp6gvhd0lwrtkyrecdn3</td>\n",
              "      <td>1.184477e+09</td>\n",
              "      <td>terra163duvmyt7h6uzyc4jnzl607wdrvftnv8ar3epf</td>\n",
              "      <td>terra1gm5p3ner9x9xpwugn9sp6gvhd0lwrtkyrecdn3</td>\n",
              "      <td>1E120C347939CCBC107304C3EF175BECEE237EFF33D3543FCD486F30D5BAC97F</td>\n",
              "      <td>12/04</td>\n",
              "      <td>2021/12/04</td>\n",
              "      <td>Terraswap ANC-UST Pair</td>\n",
              "      <td>Terraswap</td>\n",
              "      <td>0.0</td>\n",
              "    </tr>\n",
              "    <tr>\n",
              "      <th>4127</th>\n",
              "      <td>terra1nef5jf6c7js9x6gkntlehgywvjlpytm7pcgkn4</td>\n",
              "      <td>2021-12-04 20:13:58.246000</td>\n",
              "      <td>terra106a00unep7pvwvcck4wylt4fffjhgkf9a0u6eu</td>\n",
              "      <td>0</td>\n",
              "      <td>1.153023e+09</td>\n",
              "      <td>uusd</td>\n",
              "      <td>terra106a00unep7pvwvcck4wylt4fffjhgkf9a0u6eu</td>\n",
              "      <td>7.720064e+09</td>\n",
              "      <td>terra163duvmyt7h6uzyc4jnzl607wdrvftnv8ar3epf</td>\n",
              "      <td>terra163duvmyt7h6uzyc4jnzl607wdrvftnv8ar3epf</td>\n",
              "      <td>1E120C347939CCBC107304C3EF175BECEE237EFF33D3543FCD486F30D5BAC97F</td>\n",
              "      <td>12/04</td>\n",
              "      <td>2021/12/04</td>\n",
              "      <td>LOOP LOOP-UST Pair</td>\n",
              "      <td>Loop</td>\n",
              "      <td>0.0</td>\n",
              "    </tr>\n",
              "    <tr>\n",
              "      <th>4128</th>\n",
              "      <td>terra14z56l0fp2lsf86zy3hty2z47ezkhnthtr9yq76</td>\n",
              "      <td>2021-12-04 20:13:58.246000</td>\n",
              "      <td>terra163duvmyt7h6uzyc4jnzl607wdrvftnv8ar3epf</td>\n",
              "      <td>1</td>\n",
              "      <td>7.720064e+09</td>\n",
              "      <td>terra1nef5jf6c7js9x6gkntlehgywvjlpytm7pcgkn4</td>\n",
              "      <td>terra1w7hny2catfwsv6dq8gfm4zgazx3hmpl3xwzxya</td>\n",
              "      <td>2.969169e+08</td>\n",
              "      <td>terra163duvmyt7h6uzyc4jnzl607wdrvftnv8ar3epf</td>\n",
              "      <td>terra1w7hny2catfwsv6dq8gfm4zgazx3hmpl3xwzxya</td>\n",
              "      <td>1E120C347939CCBC107304C3EF175BECEE237EFF33D3543FCD486F30D5BAC97F</td>\n",
              "      <td>12/04</td>\n",
              "      <td>2021/12/04</td>\n",
              "      <td>LOOP LUNA-ANC Pair</td>\n",
              "      <td>Loop</td>\n",
              "      <td>0.0</td>\n",
              "    </tr>\n",
              "  </tbody>\n",
              "</table>\n",
              "</div>"
            ],
            "text/plain": [
              "                                         ask_asset  \\\n",
              "4126                                          uusd   \n",
              "4127  terra1nef5jf6c7js9x6gkntlehgywvjlpytm7pcgkn4   \n",
              "4128  terra14z56l0fp2lsf86zy3hty2z47ezkhnthtr9yq76   \n",
              "\n",
              "                 block_timestamp  \\\n",
              "4126  2021-12-04 20:13:58.246000   \n",
              "4127  2021-12-04 20:13:58.246000   \n",
              "4128  2021-12-04 20:13:58.246000   \n",
              "\n",
              "                                             from_  msg_index  offer_amount  \\\n",
              "4126  terra163duvmyt7h6uzyc4jnzl607wdrvftnv8ar3epf          2  2.969169e+08   \n",
              "4127  terra106a00unep7pvwvcck4wylt4fffjhgkf9a0u6eu          0  1.153023e+09   \n",
              "4128  terra163duvmyt7h6uzyc4jnzl607wdrvftnv8ar3epf          1  7.720064e+09   \n",
              "\n",
              "                                       offer_asset  \\\n",
              "4126  terra14z56l0fp2lsf86zy3hty2z47ezkhnthtr9yq76   \n",
              "4127                                          uusd   \n",
              "4128  terra1nef5jf6c7js9x6gkntlehgywvjlpytm7pcgkn4   \n",
              "\n",
              "                             pool_contract_address  return_amount  \\\n",
              "4126  terra1gm5p3ner9x9xpwugn9sp6gvhd0lwrtkyrecdn3   1.184477e+09   \n",
              "4127  terra106a00unep7pvwvcck4wylt4fffjhgkf9a0u6eu   7.720064e+09   \n",
              "4128  terra1w7hny2catfwsv6dq8gfm4zgazx3hmpl3xwzxya   2.969169e+08   \n",
              "\n",
              "                                            sender  \\\n",
              "4126  terra163duvmyt7h6uzyc4jnzl607wdrvftnv8ar3epf   \n",
              "4127  terra163duvmyt7h6uzyc4jnzl607wdrvftnv8ar3epf   \n",
              "4128  terra163duvmyt7h6uzyc4jnzl607wdrvftnv8ar3epf   \n",
              "\n",
              "                                               to_  \\\n",
              "4126  terra1gm5p3ner9x9xpwugn9sp6gvhd0lwrtkyrecdn3   \n",
              "4127  terra163duvmyt7h6uzyc4jnzl607wdrvftnv8ar3epf   \n",
              "4128  terra1w7hny2catfwsv6dq8gfm4zgazx3hmpl3xwzxya   \n",
              "\n",
              "                                                                 tx_id  \\\n",
              "4126  1E120C347939CCBC107304C3EF175BECEE237EFF33D3543FCD486F30D5BAC97F   \n",
              "4127  1E120C347939CCBC107304C3EF175BECEE237EFF33D3543FCD486F30D5BAC97F   \n",
              "4128  1E120C347939CCBC107304C3EF175BECEE237EFF33D3543FCD486F30D5BAC97F   \n",
              "\n",
              "     month_day year_month_day               pool_name   protocol  component_id  \n",
              "4126     12/04     2021/12/04  Terraswap ANC-UST Pair  Terraswap           0.0  \n",
              "4127     12/04     2021/12/04      LOOP LOOP-UST Pair       Loop           0.0  \n",
              "4128     12/04     2021/12/04      LOOP LUNA-ANC Pair       Loop           0.0  "
            ]
          },
          "execution_count": 60,
          "metadata": {},
          "output_type": "execute_result"
        }
      ],
      "source": [
        "arb_txs[arb_txs.tx_id=='1E120C347939CCBC107304C3EF175BECEE237EFF33D3543FCD486F30D5BAC97F']"
      ]
    },
    {
      "cell_type": "code",
      "execution_count": null,
      "metadata": {
        "id": "A7WLC5DiCt0t",
        "outputId": "47bf7a9a-3356-407d-a163-bd7b8605d041"
      },
      "outputs": [
        {
          "data": {
            "text/html": [
              "<div>\n",
              "<style scoped>\n",
              "    .dataframe tbody tr th:only-of-type {\n",
              "        vertical-align: middle;\n",
              "    }\n",
              "\n",
              "    .dataframe tbody tr th {\n",
              "        vertical-align: top;\n",
              "    }\n",
              "\n",
              "    .dataframe thead th {\n",
              "        text-align: right;\n",
              "    }\n",
              "</style>\n",
              "<table border=\"1\" class=\"dataframe\">\n",
              "  <thead>\n",
              "    <tr style=\"text-align: right;\">\n",
              "      <th></th>\n",
              "      <th>id</th>\n",
              "      <th>name</th>\n",
              "      <th>protocol</th>\n",
              "      <th>icon</th>\n",
              "      <th>tags</th>\n",
              "      <th>mainnet</th>\n",
              "      <th>testnet</th>\n",
              "    </tr>\n",
              "  </thead>\n",
              "  <tbody>\n",
              "    <tr>\n",
              "      <th>22</th>\n",
              "      <td>TERRASWAP_ASTRO-UST_LP_2</td>\n",
              "      <td>ASTRO-UST LP</td>\n",
              "      <td>Terraswap</td>\n",
              "      <td>https://finder.extraterrestrial.money/images/SVG/ASTRO.svg</td>\n",
              "      <td>NaN</td>\n",
              "      <td>terra1pufczag48fwqhsmekfullmyu02f93flvfc9a25</td>\n",
              "      <td>NaN</td>\n",
              "    </tr>\n",
              "  </tbody>\n",
              "</table>\n",
              "</div>"
            ],
            "text/plain": [
              "                          id          name   protocol  \\\n",
              "22  TERRASWAP_ASTRO-UST_LP_2  ASTRO-UST LP  Terraswap   \n",
              "\n",
              "                                                          icon tags  \\\n",
              "22  https://finder.extraterrestrial.money/images/SVG/ASTRO.svg  NaN   \n",
              "\n",
              "                                         mainnet testnet  \n",
              "22  terra1pufczag48fwqhsmekfullmyu02f93flvfc9a25     NaN  "
            ]
          },
          "execution_count": 61,
          "metadata": {},
          "output_type": "execute_result"
        }
      ],
      "source": [
        "contracts[contracts.mainnet=='terra1pufczag48fwqhsmekfullmyu02f93flvfc9a25']"
      ]
    },
    {
      "cell_type": "markdown",
      "metadata": {
        "id": "8tCBoXJCCt0t"
      },
      "source": [
        "## Appendix\n",
        "### Data preparation"
      ]
    },
    {
      "cell_type": "markdown",
      "metadata": {
        "id": "njUthauv0Pqe"
      },
      "source": [
        "**Imports**"
      ]
    },
    {
      "cell_type": "code",
      "execution_count": null,
      "metadata": {
        "id": "jaAVO0F_0Pqe"
      },
      "outputs": [],
      "source": [
        "import pandas as pd\n",
        "import seaborn as sns\n",
        "import matplotlib\n",
        "import matplotlib.pyplot as plt\n",
        "import math\n",
        "from scipy.stats import linregress\n",
        "import warnings\n",
        "import json\n",
        "warnings.filterwarnings(\"ignore\")\n",
        "pd.options.mode.chained_assignment = None\n",
        "matplotlib.rcParams['figure.figsize'] = (15.0, 5.0)\n",
        "pd.set_option('display.max_columns', 120)\n",
        "pd.options.display.max_colwidth = 10000"
      ]
    },
    {
      "cell_type": "code",
      "execution_count": null,
      "metadata": {
        "id": "oql9fkqB0Pqe"
      },
      "outputs": [],
      "source": [
        "url_tx = 'https://api.flipsidecrypto.com/api/v2/queries/79bcdde1-d2fc-4d73-b899-0502f9ee778c/data/latest'\n",
        "url_tx2 = 'https://api.flipsidecrypto.com/api/v2/queries/020e2f1c-d4e2-492a-b584-1ff332d57c92/data/latest'\n",
        "url_tx3 = 'https://api.flipsidecrypto.com/api/v2/queries/d112a913-8be6-450a-a44c-b098a1c8b8d6/data/latest'\n",
        "url_tx4 = 'https://api.flipsidecrypto.com/api/v2/queries/fe7e1669-2321-4ee0-bb0b-79c707bee08c/data/latest'\n"
      ]
    },
    {
      "cell_type": "code",
      "execution_count": null,
      "metadata": {
        "id": "bdDXHcZZ0Pqe",
        "outputId": "01bc79d8-dd5b-49ff-9c1d-1392a6dcf97b"
      },
      "outputs": [
        {
          "data": {
            "text/plain": [
              "(158877, 12)"
            ]
          },
          "execution_count": 3,
          "metadata": {},
          "output_type": "execute_result"
        }
      ],
      "source": [
        "tx_raw = pd.read_json(url_tx).append(pd.read_json(url_tx2))\\\n",
        "                            .append(pd.read_json(url_tx3))\\\n",
        "                            .append(pd.read_json(url_tx4))\n",
        "tx_raw.shape"
      ]
    },
    {
      "cell_type": "code",
      "execution_count": null,
      "metadata": {
        "id": "mrug-pVGCt0u",
        "outputId": "7388cb94-076d-471e-bd89-5e36d36d2196"
      },
      "outputs": [
        {
          "data": {
            "text/plain": [
              "Index(['ASK_ASSET', 'BLOCK_TIMESTAMP', 'EVENT_ATTRIBUTES', 'FROM_',\n",
              "       'MSG_INDEX', 'OFFER_AMOUNT', 'OFFER_ASSET', 'POOL_CONTRACT_ADDRESS',\n",
              "       'RETURN_AMOUNT', 'SENDER', 'TO_', 'TX_ID'],\n",
              "      dtype='object')"
            ]
          },
          "execution_count": 4,
          "metadata": {},
          "output_type": "execute_result"
        }
      ],
      "source": [
        "tx_raw.columns"
      ]
    },
    {
      "cell_type": "markdown",
      "metadata": {
        "id": "8RRNXsRX0Pqf"
      },
      "source": [
        "**Preparation**"
      ]
    },
    {
      "cell_type": "code",
      "execution_count": null,
      "metadata": {
        "id": "n_C1BYrJ0Pqf"
      },
      "outputs": [],
      "source": [
        "txs = tx_raw[['ASK_ASSET', 'BLOCK_TIMESTAMP', 'FROM_',\n",
        "       'MSG_INDEX', 'OFFER_AMOUNT', 'OFFER_ASSET', 'POOL_CONTRACT_ADDRESS',\n",
        "       'RETURN_AMOUNT', 'SENDER', 'TO_', 'TX_ID']]\n",
        "txs.columns = [s.lower() for s in txs.columns]\n",
        "txs.block_timestamp = pd.to_datetime(txs.block_timestamp)\n",
        "txs.sender=txs.sender.apply(lambda x: x.replace(\"\\\"\",\"\") if x else '')\n",
        "txs.from_=txs.from_.apply(lambda x: x.replace(\"\\\"\",\"\") if x else '')\n",
        "txs.offer_asset=txs.offer_asset.apply(lambda x: x.replace(\"\\\"\",\"\") if x else '')\n",
        "txs.to_=txs.to_.apply(lambda x: x.replace(\"\\\"\",\"\") if x else '')\n",
        "txs.pool_contract_address=txs.pool_contract_address.apply(lambda x: x.replace(\"\\\"\",\"\") if x else '')\n",
        "txs['month_day'] = txs.block_timestamp.apply(lambda b: f\"{'{:02}'.format(b.month)}/{'{:02}'.format(b.day)}\")\n",
        "txs['year_month_day'] = txs.block_timestamp.apply(lambda b: f\"{b.year}/{'{:02}'.format(b.month)}/{'{:02}'.format(b.day)}\")\n"
      ]
    },
    {
      "cell_type": "markdown",
      "metadata": {
        "id": "U3lX08pGCt0v"
      },
      "source": [
        "**Filter only txs with the right chain of assets**"
      ]
    },
    {
      "cell_type": "code",
      "execution_count": null,
      "metadata": {
        "id": "OG1H_pWRCt0v",
        "outputId": "687065ba-082e-4040-ccda-cc54a1190093"
      },
      "outputs": [
        {
          "name": "stdout",
          "output_type": "stream",
          "text": [
            "40695\n",
            "Approved:  0\n",
            "To next stage:  11209\n",
            "Approved:  0\n",
            "To next stage:  11064\n",
            "Approved:  3357\n",
            "To next stage:  7698\n",
            "Approved:  7064\n",
            "To next stage:  3970\n",
            "Approved:  10209\n",
            "To next stage:  824\n",
            "Approved:  10965\n",
            "To next stage:  68\n",
            "Approved:  11033\n",
            "Approved:  11033\n",
            "To next stage:  12\n",
            "Approved:  11033\n",
            "To next stage:  1\n",
            "Approved:  11033\n",
            "To next stage:  0\n",
            "Approved:  11033\n",
            "To next stage:  0\n"
          ]
        }
      ],
      "source": [
        "approved_tx_ids = set()\n",
        "tx_ids = txs.tx_id.unique()\n",
        "print(len(tx_ids))\n",
        "for i in range(0,10):\n",
        "    txs_index = txs[txs.tx_id.isin(tx_ids)].groupby('tx_id').msg_index.max()\n",
        "    approved_tx_ids.update(txs_index[txs_index < i].index.tolist())\n",
        "\n",
        "    ind_i = txs[txs.tx_id.isin(tx_ids)&(txs.msg_index==i)][['tx_id','offer_asset','offer_amount','ask_asset','return_amount']]\n",
        "    ind_ii = txs[txs.msg_index==(i+1)][['tx_id','offer_asset','offer_amount','ask_asset','return_amount']]\n",
        "    ind_iii = ind_i.merge(ind_ii,on='tx_id',how='left',suffixes=[f'_{i}',f'_{i+1}']) \n",
        "    if(i==0):\n",
        "        ind_iii = ind_iii[(ind_iii[f'ask_asset_{i}']==ind_iii[f'offer_asset_{i+1}'])]\n",
        "    else:\n",
        "        ind_iii = ind_iii[(ind_iii[f'ask_asset_{i}']==ind_iii[f'offer_asset_{i+1}'])|(ind_iii[f'offer_asset_{i+1}'].isna())]\n",
        "    tx_ids = ind_iii.tx_id.unique()\n",
        "    print('Approved: ', len(approved_tx_ids))\n",
        "    print('To next stage: ',len(tx_ids))\n",
        "    if(i==5):\n",
        "        approved_tx_ids.update(tx_ids)\n",
        "        print('Approved: ', len(approved_tx_ids))"
      ]
    },
    {
      "cell_type": "code",
      "execution_count": null,
      "metadata": {
        "id": "A6VJltwnCt0v"
      },
      "outputs": [],
      "source": [
        "arb_txs = txs[txs.tx_id.isin(approved_tx_ids)]"
      ]
    },
    {
      "cell_type": "markdown",
      "metadata": {
        "id": "P-IJI6M6Ct0v"
      },
      "source": [
        "### Txs to split"
      ]
    },
    {
      "cell_type": "code",
      "execution_count": null,
      "metadata": {
        "id": "kjpMWHyfCt0w",
        "outputId": "78216741-51ad-4c68-fca2-870e04f33ad4"
      },
      "outputs": [
        {
          "name": "stdout",
          "output_type": "stream",
          "text": [
            "Iteration: 1\n",
            "3292\n",
            "Iteration: 2\n",
            "6936\n",
            "Iteration: 3\n",
            "10082\n",
            "Iteration: 4\n",
            "10838\n",
            "Iteration: 5\n",
            "10894\n",
            "Iteration: 6\n",
            "10905\n",
            "Iteration: 7\n",
            "10906\n",
            "Iteration: 8\n",
            "10906\n",
            "Iteration: 9\n",
            "10906\n"
          ]
        }
      ],
      "source": [
        "arb_0 = arb_txs[arb_txs.msg_index==0][['tx_id','offer_asset']]\n",
        "for i in range(1,10):\n",
        "    print('Iteration:',i)\n",
        "    tmp = arb_0.merge(arb_txs[arb_txs.msg_index==i][['tx_id','ask_asset']],on='tx_id')\n",
        "    tmp['msg_index'] = i\n",
        "    if i==1:\n",
        "        txs_end = tmp[tmp.offer_asset==tmp.ask_asset]\n",
        "    else:\n",
        "        txs_end=txs_end.append(tmp[tmp.offer_asset==tmp.ask_asset])\n",
        "    print(len(txs_end))"
      ]
    },
    {
      "cell_type": "code",
      "execution_count": null,
      "metadata": {
        "id": "XfJGagGeCt0w"
      },
      "outputs": [],
      "source": [
        "s = txs_end.groupby('tx_id').msg_index.count()\n",
        "to_split = txs_end[txs_end.tx_id.isin(s[s>1].index.tolist())].sort_values(by='tx_id')\n",
        "to_split=to_split.groupby(['tx_id','offer_asset','ask_asset']).msg_index.min().reset_index()"
      ]
    },
    {
      "cell_type": "code",
      "execution_count": null,
      "metadata": {
        "id": "DfhNxQNUCt0w"
      },
      "outputs": [],
      "source": [
        "arb_txs_no_split = arb_txs[~(arb_txs.tx_id.isin(to_split.tx_id))]"
      ]
    },
    {
      "cell_type": "code",
      "execution_count": null,
      "metadata": {
        "id": "bh3OyggyCt0w"
      },
      "outputs": [],
      "source": [
        "to_split_txs = arb_txs[(arb_txs.tx_id.isin(to_split.tx_id))]\n",
        "to_split_txs = to_split_txs.merge(to_split, on=['tx_id'], suffixes=['','_split'])\n",
        "split_left = to_split_txs[to_split_txs.msg_index<=to_split_txs.msg_index_split]\n",
        "split_right = to_split_txs[to_split_txs.msg_index>to_split_txs.msg_index_split]"
      ]
    },
    {
      "cell_type": "code",
      "execution_count": null,
      "metadata": {
        "id": "-PoYjm_zCt0w"
      },
      "outputs": [],
      "source": [
        "split_right['tx_id'] = split_right.tx_id + '_2'"
      ]
    },
    {
      "cell_type": "code",
      "execution_count": null,
      "metadata": {
        "id": "LNWjdZ7GCt0w"
      },
      "outputs": [],
      "source": [
        "split_right['msg_index']=split_right\\\n",
        "                            .sort_values(by=['tx_id','msg_index'])\\\n",
        "                            .groupby(['tx_id']).cumcount()"
      ]
    },
    {
      "cell_type": "code",
      "execution_count": null,
      "metadata": {
        "id": "WGjhmDqhCt0w"
      },
      "outputs": [],
      "source": [
        "arb_txs = arb_txs_no_split.append(split_right[arb_txs_no_split.columns])\\\n",
        "                .append(split_left[arb_txs_no_split.columns])"
      ]
    },
    {
      "cell_type": "code",
      "execution_count": null,
      "metadata": {
        "id": "BISILfiACt0x",
        "outputId": "cbc0e4ae-7b81-467b-8319-992f1005bd51"
      },
      "outputs": [
        {
          "data": {
            "text/html": [
              "<div>\n",
              "<style scoped>\n",
              "    .dataframe tbody tr th:only-of-type {\n",
              "        vertical-align: middle;\n",
              "    }\n",
              "\n",
              "    .dataframe tbody tr th {\n",
              "        vertical-align: top;\n",
              "    }\n",
              "\n",
              "    .dataframe thead th {\n",
              "        text-align: right;\n",
              "    }\n",
              "</style>\n",
              "<table border=\"1\" class=\"dataframe\">\n",
              "  <thead>\n",
              "    <tr style=\"text-align: right;\">\n",
              "      <th></th>\n",
              "      <th>id</th>\n",
              "      <th>name</th>\n",
              "      <th>protocol</th>\n",
              "      <th>icon</th>\n",
              "      <th>tags</th>\n",
              "      <th>mainnet</th>\n",
              "      <th>testnet</th>\n",
              "    </tr>\n",
              "  </thead>\n",
              "  <tbody>\n",
              "    <tr>\n",
              "      <th>0</th>\n",
              "      <td>TERRASWAP_ASSET_LIMIT_ORDER</td>\n",
              "      <td>Assert Limit Order</td>\n",
              "      <td>Terraswap</td>\n",
              "      <td>https://whitelist.mirror.finance/icon/terraswap.png</td>\n",
              "      <td>NaN</td>\n",
              "      <td>terra1vs9jr7pxuqwct3j29lez3pfetuu8xmq7tk3lzk</td>\n",
              "      <td>NaN</td>\n",
              "    </tr>\n",
              "    <tr>\n",
              "      <th>1</th>\n",
              "      <td>TERRASWAP_ROUTE_SWAP</td>\n",
              "      <td>Route Swap</td>\n",
              "      <td>Terraswap</td>\n",
              "      <td>https://whitelist.mirror.finance/icon/terraswap.png</td>\n",
              "      <td>NaN</td>\n",
              "      <td>terra19qx5xe6q9ll4w0890ux7lv2p4mf3csd4qvt3ex</td>\n",
              "      <td>NaN</td>\n",
              "    </tr>\n",
              "    <tr>\n",
              "      <th>2</th>\n",
              "      <td>TERRASWAP_TOKENFACTORY</td>\n",
              "      <td>TokenFactory</td>\n",
              "      <td>Terraswap</td>\n",
              "      <td>https://whitelist.mirror.finance/icon/terraswap.png</td>\n",
              "      <td>NaN</td>\n",
              "      <td>terra1ulgw0td86nvs4wtpsc80thv6xelk76ut7a7apj</td>\n",
              "      <td>terra18qpjm4zkvqnpjpw0zn0tdr8gdzvt8au35v45xf</td>\n",
              "    </tr>\n",
              "    <tr>\n",
              "      <th>3</th>\n",
              "      <td>TERRASWAP_ALTE-UST_PAIR</td>\n",
              "      <td>ALTE-UST Pair</td>\n",
              "      <td>Terraswap</td>\n",
              "      <td>https://raw.githubusercontent.com/etfinder/assets/master/extra/icon/60/ALTE60.png</td>\n",
              "      <td>Altered</td>\n",
              "      <td>terra18adm0emn6j3pnc90ldechhun62y898xrdmfgfz</td>\n",
              "      <td>NaN</td>\n",
              "    </tr>\n",
              "    <tr>\n",
              "      <th>4</th>\n",
              "      <td>TERRASWAP_ALTE-UST_LP</td>\n",
              "      <td>ALTE-UST LP</td>\n",
              "      <td>Terraswap</td>\n",
              "      <td>https://raw.githubusercontent.com/etfinder/assets/master/extra/icon/60/ALTE60.png</td>\n",
              "      <td>Altered</td>\n",
              "      <td>terra1x3musrr03tl3dy9xhagm6r5nthwwxgx0hezc79</td>\n",
              "      <td>NaN</td>\n",
              "    </tr>\n",
              "  </tbody>\n",
              "</table>\n",
              "</div>"
            ],
            "text/plain": [
              "                            id                name   protocol  \\\n",
              "0  TERRASWAP_ASSET_LIMIT_ORDER  Assert Limit Order  Terraswap   \n",
              "1         TERRASWAP_ROUTE_SWAP          Route Swap  Terraswap   \n",
              "2       TERRASWAP_TOKENFACTORY        TokenFactory  Terraswap   \n",
              "3      TERRASWAP_ALTE-UST_PAIR       ALTE-UST Pair  Terraswap   \n",
              "4        TERRASWAP_ALTE-UST_LP         ALTE-UST LP  Terraswap   \n",
              "\n",
              "                                                                                icon  \\\n",
              "0                                https://whitelist.mirror.finance/icon/terraswap.png   \n",
              "1                                https://whitelist.mirror.finance/icon/terraswap.png   \n",
              "2                                https://whitelist.mirror.finance/icon/terraswap.png   \n",
              "3  https://raw.githubusercontent.com/etfinder/assets/master/extra/icon/60/ALTE60.png   \n",
              "4  https://raw.githubusercontent.com/etfinder/assets/master/extra/icon/60/ALTE60.png   \n",
              "\n",
              "      tags                                       mainnet  \\\n",
              "0      NaN  terra1vs9jr7pxuqwct3j29lez3pfetuu8xmq7tk3lzk   \n",
              "1      NaN  terra19qx5xe6q9ll4w0890ux7lv2p4mf3csd4qvt3ex   \n",
              "2      NaN  terra1ulgw0td86nvs4wtpsc80thv6xelk76ut7a7apj   \n",
              "3  Altered  terra18adm0emn6j3pnc90ldechhun62y898xrdmfgfz   \n",
              "4  Altered  terra1x3musrr03tl3dy9xhagm6r5nthwwxgx0hezc79   \n",
              "\n",
              "                                        testnet  \n",
              "0                                           NaN  \n",
              "1                                           NaN  \n",
              "2  terra18qpjm4zkvqnpjpw0zn0tdr8gdzvt8au35v45xf  \n",
              "3                                           NaN  \n",
              "4                                           NaN  "
            ]
          },
          "execution_count": 15,
          "metadata": {},
          "output_type": "execute_result"
        }
      ],
      "source": [
        "contracts = pd.read_csv('../../contracts.csv').append(pd.read_csv('../../contracts_new.csv'))\n",
        "contracts.head()"
      ]
    },
    {
      "cell_type": "code",
      "execution_count": null,
      "metadata": {
        "id": "Z7S4LI46Ct0x"
      },
      "outputs": [],
      "source": [
        "contract_name = contracts.set_index('mainnet').name.to_dict()\n",
        "contract_protocol = contracts.set_index('mainnet').protocol.to_dict()"
      ]
    },
    {
      "cell_type": "code",
      "execution_count": null,
      "metadata": {
        "id": "i_1obSFDCt0x",
        "outputId": "3c641cf8-9843-4c11-bf48-9a81a178f82a"
      },
      "outputs": [
        {
          "data": {
            "text/plain": [
              "ask_asset                 object\n",
              "block_timestamp           object\n",
              "from_                     object\n",
              "msg_index                  int64\n",
              "offer_amount             float64\n",
              "offer_asset               object\n",
              "pool_contract_address     object\n",
              "return_amount            float64\n",
              "sender                    object\n",
              "to_                       object\n",
              "tx_id                     object\n",
              "month_day                 object\n",
              "year_month_day            object\n",
              "dtype: object"
            ]
          },
          "execution_count": 17,
          "metadata": {},
          "output_type": "execute_result"
        }
      ],
      "source": [
        "arb_txs.dtypes"
      ]
    },
    {
      "cell_type": "code",
      "execution_count": null,
      "metadata": {
        "id": "5xrLwQQBCt0x"
      },
      "outputs": [],
      "source": [
        "def contract_full_name(row):\n",
        "    if(str(row['protocol']).upper() in row.pool_name):\n",
        "        return row.pool_name\n",
        "    else:\n",
        "        return  str(row['protocol']) + ' ' + row.pool_name\n",
        "                                                        \n",
        "arb_txs['pool_name']=arb_txs.pool_contract_address.apply(lambda x: contract_name[x] if x in contract_name else x)\n",
        "arb_txs['protocol']=arb_txs.pool_contract_address.apply(lambda x: contract_protocol[x] if x in contract_protocol else 'Unknown')\n",
        "arb_txs['pool_name']= arb_txs.apply(contract_full_name,axis=1)"
      ]
    },
    {
      "cell_type": "code",
      "execution_count": null,
      "metadata": {
        "id": "ME3NbnEvCt0x",
        "outputId": "778ab94e-198d-43e5-eb45-ee0ff3249735"
      },
      "outputs": [
        {
          "data": {
            "text/plain": [
              "array(['terra1cpzkckgzz90pq8fkumdjc58ee5llrxt2yka9fp',\n",
              "       'terra1amv303y8kzxuegvurh0gug2xe9wkgj65enq2ux',\n",
              "       'terra13ay3hftcft25uazl76q8gmdk993y9nyv9avu2h'], dtype=object)"
            ]
          },
          "execution_count": 19,
          "metadata": {},
          "output_type": "execute_result"
        }
      ],
      "source": [
        "arb_txs[arb_txs.pool_name.str.contains('MIR')].pool_contract_address.unique()"
      ]
    },
    {
      "cell_type": "code",
      "execution_count": null,
      "metadata": {
        "id": "HfbnceCtCt0y",
        "outputId": "8e515d71-0a49-4fcf-b17a-e316e002461b"
      },
      "outputs": [
        {
          "data": {
            "text/plain": [
              "datetime.datetime(2022, 1, 24, 19, 25, 18, 791000)"
            ]
          },
          "execution_count": 63,
          "metadata": {},
          "output_type": "execute_result"
        }
      ],
      "source": [
        "arb_txs.block_timestamp.max()"
      ]
    },
    {
      "cell_type": "markdown",
      "metadata": {
        "id": "NXi8fBKUCt0y"
      },
      "source": [
        "### Query"
      ]
    },
    {
      "cell_type": "markdown",
      "metadata": {
        "id": "Sd1ExSPCCt0y"
      },
      "source": [
        "with tx_pool as (\n",
        "  select tx_id, msg_index,\n",
        "  case \n",
        "  \t\twhen (EVENT_ATTRIBUTES:\"0_action\" = 'swap' and EVENT_ATTRIBUTES:\"0_offer_asset\" is not null) then EVENT_ATTRIBUTES:\"0_offer_asset\"\n",
        "  \t\twhen (EVENT_ATTRIBUTES:\"1_action\" = 'swap' and EVENT_ATTRIBUTES:\"1_offer_asset\" is not null) then EVENT_ATTRIBUTES:\"1_offer_asset\"\n",
        "  \t\twhen (EVENT_ATTRIBUTES:\"2_action\" = 'swap' and EVENT_ATTRIBUTES:\"2_offer_asset\" is not null) then EVENT_ATTRIBUTES:\"2_offer_asset\"\n",
        "  \t\twhen (EVENT_ATTRIBUTES:\"3_action\" = 'swap' and EVENT_ATTRIBUTES:\"3_offer_asset\" is not null) then EVENT_ATTRIBUTES:\"3_offer_asset\"\n",
        "  \t\twhen (EVENT_ATTRIBUTES:\"4_action\" = 'swap' and EVENT_ATTRIBUTES:\"4_offer_asset\" is not null) then EVENT_ATTRIBUTES:\"4_offer_asset\"\n",
        "  \t\twhen (EVENT_ATTRIBUTES:\"action\" = 'swap' and EVENT_ATTRIBUTES:\"offer_asset\" is not null) then EVENT_ATTRIBUTES:\"offer_asset\"\n",
        "  \t\telse EVENT_ATTRIBUTES:\"offer_asset\"\n",
        "  end offer_asset\n",
        "  /*,\n",
        "  case \n",
        "  \t\twhen (EVENT_ATTRIBUTES:\"0_action\" = 'swap') then EVENT_ATTRIBUTES:\"0_contract_address\"\n",
        "  \t\twhen (EVENT_ATTRIBUTES:\"1_action\" = 'swap') then EVENT_ATTRIBUTES:\"1_contract_address\"\n",
        "  \t\twhen (EVENT_ATTRIBUTES:\"2_action\" = 'swap') then EVENT_ATTRIBUTES:\"2_contract_address\"\n",
        "  \t\twhen (EVENT_ATTRIBUTES:\"3_action\" = 'swap') then EVENT_ATTRIBUTES:\"3_contract_address\"\n",
        "  \t\twhen (EVENT_ATTRIBUTES:\"4_action\" = 'swap') then EVENT_ATTRIBUTES:\"4_contract_address\"\n",
        "  \t\twhen (EVENT_ATTRIBUTES:\"5_action\" = 'swap') then EVENT_ATTRIBUTES:\"5_contract_address\"\n",
        "  \t\twhen (EVENT_ATTRIBUTES:\"6_action\" = 'swap') then EVENT_ATTRIBUTES:\"6_contract_address\"\n",
        "  \t\twhen (EVENT_ATTRIBUTES:\"7_action\" = 'swap') then EVENT_ATTRIBUTES:\"7_contract_address\"\n",
        "  \t\twhen (EVENT_ATTRIBUTES:\"8_action\" = 'swap') then EVENT_ATTRIBUTES:\"8_contract_address\"\n",
        "  \t\twhen (EVENT_ATTRIBUTES:\"9_action\" = 'swap') then EVENT_ATTRIBUTES:\"9_contract_address\"\n",
        "  \t\twhen (EVENT_ATTRIBUTES:\"farmer\" is not null) then EVENT_ATTRIBUTES:\"0_to\" --Nexus bLuna nLuna swap\n",
        "  \t\twhen (EVENT_ATTRIBUTES:\"action\" = 'swap') then EVENT_ATTRIBUTES:\"contract_address\"\n",
        "  \t\telse 'bo'\n",
        "    end pool_contract_address*/\n",
        "  from terra.msg_events\n",
        "  where event_type='from_contract'\n",
        "  and tx_status='SUCCEEDED'\n",
        "  and block_timestamp > '2021-12-01T00:00:00Z'::TIMESTAMP_NTZ\n",
        "  and msg_index=0\n",
        "),\n",
        "tx_count as (\n",
        "  select tx_id\n",
        "  from terra.msg_events\n",
        "  where event_type='from_contract'\n",
        "  and tx_status='SUCCEEDED'\n",
        "  and block_timestamp > '2021-12-01T00:00:00Z'::TIMESTAMP_NTZ\n",
        "  group by 1\n",
        "  having count(*) > 1\n",
        ")\n",
        "\n",
        "select \n",
        "  \tblock_timestamp,\n",
        "  \ttx_id, msg_index,\n",
        "  \tcoalesce(EVENT_ATTRIBUTES:\"to\",EVENT_ATTRIBUTES:\"0_to\") to_,\n",
        "    coalesce(EVENT_ATTRIBUTES:\"from\",EVENT_ATTRIBUTES:\"0_from\") from_,\n",
        "    coalesce(EVENT_ATTRIBUTES:\"sender\",EVENT_ATTRIBUTES:\"sender\") sender,\n",
        "    case \n",
        "  \t\t\n",
        "  \t\twhen (EVENT_ATTRIBUTES:\"0_action\" = 'swap' or (EVENT_ATTRIBUTES:\"0_action\" = 'redeem_stable')) then EVENT_ATTRIBUTES:\"0_contract_address\"\n",
        "  \t\twhen ((EVENT_ATTRIBUTES:\"1_action\" = 'swap') or (EVENT_ATTRIBUTES:\"1_action\" = 'redeem_stable')) then EVENT_ATTRIBUTES:\"1_contract_address\"\n",
        "  \t\twhen (EVENT_ATTRIBUTES:\"2_action\" = 'swap' or (EVENT_ATTRIBUTES:\"2_action\" = 'redeem_stable')) then EVENT_ATTRIBUTES:\"2_contract_address\"\n",
        "  \t\twhen (EVENT_ATTRIBUTES:\"3_action\" = 'swap') then EVENT_ATTRIBUTES:\"3_contract_address\"\n",
        "  \t\twhen (EVENT_ATTRIBUTES:\"4_action\" = 'swap') then EVENT_ATTRIBUTES:\"4_contract_address\"\n",
        "  \t\twhen (EVENT_ATTRIBUTES:\"5_action\" = 'swap') then EVENT_ATTRIBUTES:\"5_contract_address\"\n",
        "  \t\twhen (EVENT_ATTRIBUTES:\"6_action\" = 'swap') then EVENT_ATTRIBUTES:\"6_contract_address\"\n",
        "  \t\twhen (EVENT_ATTRIBUTES:\"7_action\" = 'swap') then EVENT_ATTRIBUTES:\"7_contract_address\"\n",
        "  \t\twhen (EVENT_ATTRIBUTES:\"8_action\" = 'swap') then EVENT_ATTRIBUTES:\"8_contract_address\"\n",
        "  \t\twhen (EVENT_ATTRIBUTES:\"9_action\" = 'swap') then EVENT_ATTRIBUTES:\"9_contract_address\"\n",
        "  \t\twhen (EVENT_ATTRIBUTES:\"farmer\" is not null) then EVENT_ATTRIBUTES:\"0_to\" --Nexus bLuna nLuna swap\n",
        "  \t\twhen (EVENT_ATTRIBUTES:\"action\" = 'swap') then EVENT_ATTRIBUTES:\"contract_address\"\n",
        "  \t\telse 'bo'\n",
        "    end pool_contract_address,\n",
        "    case \n",
        "  \t\twhen (EVENT_ATTRIBUTES:\"0_action\" = 'swap' and EVENT_ATTRIBUTES:\"0_ask_asset\" is not null) then EVENT_ATTRIBUTES:\"0_ask_asset\"\n",
        "  \t\twhen (EVENT_ATTRIBUTES:\"1_action\" = 'swap' and EVENT_ATTRIBUTES:\"1_ask_asset\" is not null) then EVENT_ATTRIBUTES:\"1_ask_asset\"\n",
        "  \t\twhen (EVENT_ATTRIBUTES:\"2_action\" = 'swap' and EVENT_ATTRIBUTES:\"2_ask_asset\" is not null) then EVENT_ATTRIBUTES:\"2_ask_asset\"\n",
        "  \t\twhen (EVENT_ATTRIBUTES:\"3_action\" = 'swap' and EVENT_ATTRIBUTES:\"3_ask_asset\" is not null) then EVENT_ATTRIBUTES:\"3_ask_asset\"\n",
        "  \t\twhen (EVENT_ATTRIBUTES:\"4_action\" = 'swap' and EVENT_ATTRIBUTES:\"4_ask_asset\" is not null) then EVENT_ATTRIBUTES:\"4_ask_asset\"\n",
        "  \t\twhen (EVENT_ATTRIBUTES:\"action\" = 'swap' and EVENT_ATTRIBUTES:\"ask_asset\" is not null) then EVENT_ATTRIBUTES:\"ask_asset\"\n",
        "  \t\telse EVENT_ATTRIBUTES:\"ask_asset\"\n",
        "    end ask_asset,\n",
        "  \tcase \n",
        "  \t\twhen (EVENT_ATTRIBUTES:\"0_action\" = 'swap' and EVENT_ATTRIBUTES:\"0_return_amount\" is not null) then EVENT_ATTRIBUTES:\"0_return_amount\"\n",
        "  \t\twhen (EVENT_ATTRIBUTES:\"1_action\" = 'swap' and EVENT_ATTRIBUTES:\"1_return_amount\" is not null) then EVENT_ATTRIBUTES:\"1_return_amount\"\n",
        "  \t\twhen (EVENT_ATTRIBUTES:\"2_action\" = 'swap' and EVENT_ATTRIBUTES:\"2_return_amount\" is not null) then EVENT_ATTRIBUTES:\"2_return_amount\"\n",
        "  \t\twhen (EVENT_ATTRIBUTES:\"3_action\" = 'swap' and EVENT_ATTRIBUTES:\"3_return_amount\" is not null) then EVENT_ATTRIBUTES:\"3_return_amount\"\n",
        "  \t\twhen (EVENT_ATTRIBUTES:\"4_action\" = 'swap' and EVENT_ATTRIBUTES:\"4_return_amount\" is not null) then EVENT_ATTRIBUTES:\"4_return_amount\"\n",
        "  \t\twhen (EVENT_ATTRIBUTES:\"action\" = 'swap' and EVENT_ATTRIBUTES:\"return_amount\" is not null) then EVENT_ATTRIBUTES:\"return_amount\"\n",
        "  \t\telse EVENT_ATTRIBUTES:\"return_amount\"\n",
        "    end return_amount,\n",
        "  \tcase \n",
        "  \t\twhen (EVENT_ATTRIBUTES:\"0_action\" = 'swap' and EVENT_ATTRIBUTES:\"0_offer_amount\" is not null) then EVENT_ATTRIBUTES:\"0_offer_amount\"\n",
        "  \t\twhen (EVENT_ATTRIBUTES:\"1_action\" = 'swap' and EVENT_ATTRIBUTES:\"1_offer_amount\" is not null) then EVENT_ATTRIBUTES:\"1_offer_amount\"\n",
        "  \t\twhen (EVENT_ATTRIBUTES:\"2_action\" = 'swap' and EVENT_ATTRIBUTES:\"2_offer_amount\" is not null) then EVENT_ATTRIBUTES:\"2_offer_amount\"\n",
        "  \t\twhen (EVENT_ATTRIBUTES:\"3_action\" = 'swap' and EVENT_ATTRIBUTES:\"3_offer_amount\" is not null) then EVENT_ATTRIBUTES:\"3_offer_amount\"\n",
        "  \t\twhen (EVENT_ATTRIBUTES:\"4_action\" = 'swap' and EVENT_ATTRIBUTES:\"4_offer_amount\" is not null) then EVENT_ATTRIBUTES:\"4_offer_amount\"\n",
        "  \t\twhen (EVENT_ATTRIBUTES:\"action\" = 'swap' and EVENT_ATTRIBUTES:\"offer_amount\" is not null) then EVENT_ATTRIBUTES:\"offer_amount\"\n",
        "  \t\telse EVENT_ATTRIBUTES:\"offer_amount\"\n",
        "    end offer_amount,\n",
        "    case \n",
        "  \t\twhen (EVENT_ATTRIBUTES:\"0_action\" = 'swap' and EVENT_ATTRIBUTES:\"0_offer_asset\" is not null) then EVENT_ATTRIBUTES:\"0_offer_asset\"\n",
        "  \t\twhen (EVENT_ATTRIBUTES:\"1_action\" = 'swap' and EVENT_ATTRIBUTES:\"1_offer_asset\" is not null) then EVENT_ATTRIBUTES:\"1_offer_asset\"\n",
        "  \t\twhen (EVENT_ATTRIBUTES:\"2_action\" = 'swap' and EVENT_ATTRIBUTES:\"2_offer_asset\" is not null) then EVENT_ATTRIBUTES:\"2_offer_asset\"\n",
        "  \t\twhen (EVENT_ATTRIBUTES:\"3_action\" = 'swap' and EVENT_ATTRIBUTES:\"3_offer_asset\" is not null) then EVENT_ATTRIBUTES:\"3_offer_asset\"\n",
        "  \t\twhen (EVENT_ATTRIBUTES:\"4_action\" = 'swap' and EVENT_ATTRIBUTES:\"4_offer_asset\" is not null) then EVENT_ATTRIBUTES:\"4_offer_asset\"\n",
        "  \t\twhen (EVENT_ATTRIBUTES:\"action\" = 'swap' and EVENT_ATTRIBUTES:\"offer_asset\" is not null) then EVENT_ATTRIBUTES:\"offer_asset\"\n",
        "  \t\telse EVENT_ATTRIBUTES:\"offer_asset\"\n",
        "    end offer_asset,\n",
        "  \tEVENT_ATTRIBUTES\n",
        "from terra.msg_events\n",
        "where tx_id in (select distinct tx_id from tx_pool where offer_asset = 'uusd' and msg_index=0) --UST arbitrage\n",
        "and tx_id in (select distinct tx_id from tx_count)\n",
        "and event_type='from_contract'\n",
        "and tx_status='SUCCEEDED'\n",
        "and block_timestamp > '2021-12-01T00:00:00Z'::TIMESTAMP_NTZ\n",
        "order by 1,2"
      ]
    },
    {
      "cell_type": "code",
      "execution_count": null,
      "metadata": {
        "id": "f3xqPg-BCt0y"
      },
      "outputs": [],
      "source": [
        ""
      ]
    }
  ],
  "metadata": {
    "colab": {
      "collapsed_sections": [
        "hL4aG9Rl0Pqe"
      ],
      "name": "Terrarbitrage - UST.ipynb",
      "provenance": [],
      "toc_visible": true,
      "include_colab_link": true
    },
    "kernelspec": {
      "display_name": "Python 3 (ipykernel)",
      "language": "python",
      "name": "python3"
    },
    "language_info": {
      "codemirror_mode": {
        "name": "ipython",
        "version": 3
      },
      "file_extension": ".py",
      "mimetype": "text/x-python",
      "name": "python",
      "nbconvert_exporter": "python",
      "pygments_lexer": "ipython3",
      "version": "3.8.2"
    }
  },
  "nbformat": 4,
  "nbformat_minor": 0
}